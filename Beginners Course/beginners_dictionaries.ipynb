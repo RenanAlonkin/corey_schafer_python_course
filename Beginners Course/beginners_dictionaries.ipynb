{
 "cells": [
  {
   "cell_type": "code",
   "execution_count": 17,
   "metadata": {},
   "outputs": [
    {
     "output_type": "stream",
     "name": "stdout",
     "text": "{'name': 'Renan', 'age': 22, 'courses': ['Informatics', 'Computer Science']}\n['Informatics', 'Computer Science']\nSomething\nNot Found!\nRenan\n{'name': 'Marvin', 'age': 22, 'courses': ['Informatics', 'Computer Science'], 'phone': '5555-555'}\n{'name': 'Jeferson', 'age': '25', 'courses': ['Informatics', 'Computer Science'], 'phone': '5555-555'}\n{'name': 'Jeferson', 'age': '25', 'courses': ['Informatics', 'Computer Science']}\n25\n2\ndict_keys(['name', 'courses'])\ndict_values(['Jeferson', ['Informatics', 'Computer Science']])\ndict_items([('name', 'Jeferson'), ('courses', ['Informatics', 'Computer Science'])])\nname\ncourses\nname Jeferson\ncourses ['Informatics', 'Computer Science']\n"
    }
   ],
   "source": [
    "student = {'name': 'Renan', 'age': 22, 'courses': ['Informatics', 'Computer Science']}\n",
    "\n",
    "print(student)\n",
    "print(student['courses'])\n",
    "\n",
    "number_key = {1: 'Something'}\n",
    "print(number_key[1])\n",
    "\n",
    "# If you try to find a key that does not exist with brackets, it will throw an error\n",
    "# to acomplish that, we can use the `get` method. \n",
    "print(student.get('phone', 'Not Found!'))\n",
    "print(student.get('name'))\n",
    "\n",
    "student['phone'] = '5555-555'\n",
    "student['name'] = 'Marvin'\n",
    "\n",
    "print(student)\n",
    "\n",
    "# Updating multiple values with one statement\n",
    "student.update({'name': 'Jeferson', 'age': '25'})\n",
    "print(student)\n",
    "\n",
    "# Deleting a key of our dictionary\n",
    "del student['phone']\n",
    "print(student)\n",
    "\n",
    "# Removing and getting the value as a return\n",
    "age = student.pop('age')\n",
    "print(age)\n",
    "\n",
    "# Counting keys\n",
    "print(len(student))\n",
    "# Looking at the keys\n",
    "print(student.keys())\n",
    "# Looking at the values\n",
    "print(student.values())\n",
    "# looking at both keys and values\n",
    "print(student.items())\n",
    "\n",
    "# Looping through values\n",
    "for key in student:\n",
    "    print(key)\n",
    "\n",
    "# Looping through the tuples\n",
    "for key, value in student.items():\n",
    "    print(key, value)"
   ]
  },
  {
   "cell_type": "code",
   "execution_count": null,
   "metadata": {},
   "outputs": [],
   "source": []
  }
 ],
 "metadata": {
  "language_info": {
   "codemirror_mode": {
    "name": "ipython",
    "version": 3
   },
   "file_extension": ".py",
   "mimetype": "text/x-python",
   "name": "python",
   "nbconvert_exporter": "python",
   "pygments_lexer": "ipython3",
   "version": "3.7.6-final"
  },
  "orig_nbformat": 2,
  "kernelspec": {
   "name": "python3",
   "display_name": "Python 3"
  }
 },
 "nbformat": 4,
 "nbformat_minor": 2
}