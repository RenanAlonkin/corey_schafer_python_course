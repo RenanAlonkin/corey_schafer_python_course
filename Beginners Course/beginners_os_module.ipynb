{
 "metadata": {
  "language_info": {
   "codemirror_mode": {
    "name": "ipython",
    "version": 3
   },
   "file_extension": ".py",
   "mimetype": "text/x-python",
   "name": "python",
   "nbconvert_exporter": "python",
   "pygments_lexer": "ipython3",
   "version": "3.7.7-final"
  },
  "orig_nbformat": 2,
  "kernelspec": {
   "name": "python3",
   "display_name": "Python 3"
  }
 },
 "nbformat": 4,
 "nbformat_minor": 2,
 "cells": [
  {
   "cell_type": "code",
   "execution_count": 1,
   "metadata": {},
   "outputs": [],
   "source": [
    "import os"
   ]
  },
  {
   "cell_type": "code",
   "execution_count": 2,
   "metadata": {
    "tags": []
   },
   "outputs": [
    {
     "output_type": "stream",
     "name": "stdout",
     "text": "['CLD_CONTINUED', 'CLD_DUMPED', 'CLD_EXITED', 'CLD_TRAPPED', 'DirEntry', 'EX_CANTCREAT', 'EX_CONFIG', 'EX_DATAERR', 'EX_IOERR', 'EX_NOHOST', 'EX_NOINPUT', 'EX_NOPERM', 'EX_NOUSER', 'EX_OK', 'EX_OSERR', 'EX_OSFILE', 'EX_PROTOCOL', 'EX_SOFTWARE', 'EX_TEMPFAIL', 'EX_UNAVAILABLE', 'EX_USAGE', 'F_LOCK', 'F_OK', 'F_TEST', 'F_TLOCK', 'F_ULOCK', 'MutableMapping', 'NGROUPS_MAX', 'O_ACCMODE', 'O_APPEND', 'O_ASYNC', 'O_CLOEXEC', 'O_CREAT', 'O_DIRECT', 'O_DIRECTORY', 'O_DSYNC', 'O_EXCL', 'O_LARGEFILE', 'O_NDELAY', 'O_NOATIME', 'O_NOCTTY', 'O_NOFOLLOW', 'O_NONBLOCK', 'O_RDONLY', 'O_RDWR', 'O_RSYNC', 'O_SYNC', 'O_TRUNC', 'O_WRONLY', 'POSIX_FADV_DONTNEED', 'POSIX_FADV_NOREUSE', 'POSIX_FADV_NORMAL', 'POSIX_FADV_RANDOM', 'POSIX_FADV_SEQUENTIAL', 'POSIX_FADV_WILLNEED', 'PRIO_PGRP', 'PRIO_PROCESS', 'PRIO_USER', 'P_ALL', 'P_NOWAIT', 'P_NOWAITO', 'P_PGID', 'P_PID', 'P_WAIT', 'PathLike', 'RTLD_DEEPBIND', 'RTLD_GLOBAL', 'RTLD_LAZY', 'RTLD_LOCAL', 'RTLD_NODELETE', 'RTLD_NOLOAD', 'RTLD_NOW', 'R_OK', 'SCHED_BATCH', 'SCHED_FIFO', 'SCHED_IDLE', 'SCHED_OTHER', 'SCHED_RESET_ON_FORK', 'SCHED_RR', 'SEEK_CUR', 'SEEK_END', 'SEEK_SET', 'ST_APPEND', 'ST_MANDLOCK', 'ST_NOATIME', 'ST_NODEV', 'ST_NODIRATIME', 'ST_NOEXEC', 'ST_NOSUID', 'ST_RDONLY', 'ST_RELATIME', 'ST_SYNCHRONOUS', 'ST_WRITE', 'TMP_MAX', 'WCONTINUED', 'WCOREDUMP', 'WEXITED', 'WEXITSTATUS', 'WIFCONTINUED', 'WIFEXITED', 'WIFSIGNALED', 'WIFSTOPPED', 'WNOHANG', 'WNOWAIT', 'WSTOPPED', 'WSTOPSIG', 'WTERMSIG', 'WUNTRACED', 'W_OK', 'XATTR_CREATE', 'XATTR_REPLACE', 'XATTR_SIZE_MAX', 'X_OK', '_Environ', '__all__', '__builtins__', '__cached__', '__doc__', '__file__', '__loader__', '__name__', '__package__', '__spec__', '_check_methods', '_execvpe', '_exists', '_exit', '_fspath', '_fwalk', '_get_exports_list', '_putenv', '_spawnvef', '_unsetenv', '_wrap_close', 'abc', 'abort', 'access', 'altsep', 'chdir', 'chmod', 'chown', 'chroot', 'close', 'closerange', 'confstr', 'confstr_names', 'cpu_count', 'ctermid', 'curdir', 'defpath', 'device_encoding', 'devnull', 'dup', 'dup2', 'environ', 'environb', 'error', 'execl', 'execle', 'execlp', 'execlpe', 'execv', 'execve', 'execvp', 'execvpe', 'extsep', 'fchdir', 'fchmod', 'fchown', 'fdatasync', 'fdopen', 'fork', 'forkpty', 'fpathconf', 'fsdecode', 'fsencode', 'fspath', 'fstat', 'fstatvfs', 'fsync', 'ftruncate', 'fwalk', 'get_blocking', 'get_exec_path', 'get_inheritable', 'get_terminal_size', 'getcwd', 'getcwdb', 'getegid', 'getenv', 'getenvb', 'geteuid', 'getgid', 'getgrouplist', 'getgroups', 'getloadavg', 'getlogin', 'getpgid', 'getpgrp', 'getpid', 'getppid', 'getpriority', 'getresgid', 'getresuid', 'getsid', 'getuid', 'getxattr', 'initgroups', 'isatty', 'kill', 'killpg', 'lchown', 'linesep', 'link', 'listdir', 'listxattr', 'lockf', 'lseek', 'lstat', 'major', 'makedev', 'makedirs', 'minor', 'mkdir', 'mkfifo', 'mknod', 'name', 'nice', 'open', 'openpty', 'pardir', 'path', 'pathconf', 'pathconf_names', 'pathsep', 'pipe', 'pipe2', 'popen', 'posix_fadvise', 'posix_fallocate', 'pread', 'preadv', 'putenv', 'pwrite', 'pwritev', 'read', 'readlink', 'readv', 'register_at_fork', 'remove', 'removedirs', 'removexattr', 'rename', 'renames', 'replace', 'rmdir', 'scandir', 'sched_get_priority_max', 'sched_get_priority_min', 'sched_getaffinity', 'sched_getparam', 'sched_getscheduler', 'sched_param', 'sched_rr_get_interval', 'sched_setaffinity', 'sched_setparam', 'sched_setscheduler', 'sched_yield', 'sendfile', 'sep', 'set_blocking', 'set_inheritable', 'setegid', 'seteuid', 'setgid', 'setgroups', 'setpgid', 'setpgrp', 'setpriority', 'setregid', 'setresgid', 'setresuid', 'setreuid', 'setsid', 'setuid', 'setxattr', 'spawnl', 'spawnle', 'spawnlp', 'spawnlpe', 'spawnv', 'spawnve', 'spawnvp', 'spawnvpe', 'st', 'stat', 'stat_result', 'statvfs', 'statvfs_result', 'strerror', 'supports_bytes_environ', 'supports_dir_fd', 'supports_effective_ids', 'supports_fd', 'supports_follow_symlinks', 'symlink', 'sync', 'sys', 'sysconf', 'sysconf_names', 'system', 'tcgetpgrp', 'tcsetpgrp', 'terminal_size', 'times', 'times_result', 'truncate', 'ttyname', 'umask', 'uname', 'uname_result', 'unlink', 'unsetenv', 'urandom', 'utime', 'wait', 'wait3', 'wait4', 'waitid', 'waitid_result', 'waitpid', 'walk', 'write', 'writev']\n"
    }
   ],
   "source": [
    "# Shows all the attributes and methods in a library\n",
    "print(dir(os))"
   ]
  },
  {
   "cell_type": "code",
   "execution_count": 3,
   "metadata": {
    "tags": []
   },
   "outputs": [
    {
     "output_type": "stream",
     "name": "stdout",
     "text": "/home/alonkin/Documents/projects/python/corey_schafer_python_course\n"
    }
   ],
   "source": [
    "# Gets current directory\n",
    "print(os.getcwd())"
   ]
  },
  {
   "cell_type": "code",
   "execution_count": 4,
   "metadata": {
    "tags": []
   },
   "outputs": [
    {
     "output_type": "stream",
     "name": "stdout",
     "text": "/home/alonkin/Documents\n/home/alonkin/Documents/projects/python/corey_schafer_python_course\n"
    }
   ],
   "source": [
    "# Navegating through directories\n",
    "os.chdir('/home/alonkin/Documents/')\n",
    "print(os.getcwd())\n",
    "\n",
    "os.chdir('/home/alonkin/Documents/projects/python/corey_schafer_python_course')\n",
    "print(os.getcwd())"
   ]
  },
  {
   "cell_type": "code",
   "execution_count": 5,
   "metadata": {
    "tags": []
   },
   "outputs": [
    {
     "output_type": "stream",
     "name": "stdout",
     "text": "['beginners_strings.ipynb', 'beginners_my_module.py', '.gitignore', 'beginners_integers_floats.ipynb', 'beginners_dictionaries.ipynb', 'beginners_functions.ipynb', 'beginners_tuples_lists_sets.ipynb', '.git', 'README.md', 'beginners_conditionals_booleans.ipynb', '.vscode', '.ipynb_checkpoints', 'OS-Demo', '__pycache__', 'beginners_import_n_export_modules.ipynb', 'beginners_os_module.ipynb']\n"
    }
   ],
   "source": [
    "# Listing files and folders \n",
    "print(os.listdir())"
   ]
  },
  {
   "cell_type": "code",
   "execution_count": 11,
   "metadata": {},
   "outputs": [],
   "source": [
    "# Creating a folder\n",
    "os.mkdir('OS-Demo')"
   ]
  },
  {
   "cell_type": "code",
   "execution_count": 10,
   "metadata": {},
   "outputs": [],
   "source": [
    "# Remove a folder\n",
    "os.rmdir('OS-Demo')"
   ]
  },
  {
   "cell_type": "code",
   "execution_count": 12,
   "metadata": {},
   "outputs": [],
   "source": [
    "os.mkdir('OS-Demo')\n",
    "# Renames Files and Folders\n",
    "os.rename('OS-Demo', 'Demo-OS')"
   ]
  },
  {
   "cell_type": "code",
   "execution_count": 13,
   "metadata": {
    "tags": []
   },
   "outputs": [
    {
     "output_type": "stream",
     "name": "stdout",
     "text": "os.stat_result(st_mode=33204, st_ino=2365169, st_dev=2083, st_nlink=1, st_uid=1000, st_gid=1000, st_size=266, st_atime=1599780879, st_mtime=1599781004, st_ctime=1599781004)\n"
    }
   ],
   "source": [
    "# Shows file status\n",
    "print(os.stat('beginners_my_module.py'))"
   ]
  },
  {
   "cell_type": "code",
   "execution_count": 17,
   "metadata": {
    "tags": []
   },
   "outputs": [
    {
     "output_type": "stream",
     "name": "stdout",
     "text": "Current Directory .\nDirectories ['Demo-OS', '.git', '.vscode', '.ipynb_checkpoints', '__pycache__']\nFiles ['beginners_strings.ipynb', 'beginners_my_module.py', '.gitignore', 'beginners_integers_floats.ipynb', 'beginners_dictionaries.ipynb', 'beginners_functions.ipynb', 'beginners_tuples_lists_sets.ipynb', 'README.md', 'beginners_conditionals_booleans.ipynb', 'beginners_import_n_export_modules.ipynb', 'beginners_os_module.ipynb']\n\nCurrent Directory ./Demo-OS\nDirectories []\nFiles []\n\nCurrent Directory ./.git\nDirectories ['objects', 'refs', 'hooks', 'info', 'logs']\nFiles ['HEAD', 'config', 'description', 'index', 'FETCH_HEAD']\n\nCurrent Directory ./.git/objects\nDirectories ['da', '82', '60', '8a', 'pack', 'info', 'fb', 'df', '77', 'd6', 'ec', '07', 'e8', '63']\nFiles []\n\nCurrent Directory ./.git/objects/da\nDirectories []\nFiles ['8385df0be14aa6b93783a40872c2e4556d5a35']\n\nCurrent Directory ./.git/objects/82\nDirectories []\nFiles ['c5f6afe76200cfceaeb6f6767347be17edf06b']\n\nCurrent Directory ./.git/objects/60\nDirectories []\nFiles ['814888e0c69f713952b9f7677ff57e92b8ebab']\n\nCurrent Directory ./.git/objects/8a\nDirectories []\nFiles ['2311c1c4d1b37eaa115c56dc845de6cdc44726']\n\nCurrent Directory ./.git/objects/pack\nDirectories []\nFiles ['pack-bd9b402407483f896c6f0d18a42b0899107a42cc.idx', 'pack-bd9b402407483f896c6f0d18a42b0899107a42cc.pack']\n\nCurrent Directory ./.git/objects/info\nDirectories []\nFiles []\n\nCurrent Directory ./.git/objects/fb\nDirectories []\nFiles ['bc82f291de6312d1108cbc13aea3cbcf6a1e07']\n\nCurrent Directory ./.git/objects/df\nDirectories []\nFiles ['37a2ce64c38368894c49a4f92719de941630af']\n\nCurrent Directory ./.git/objects/77\nDirectories []\nFiles ['30ad07c0b6f39930e128ff82f529f4b068bea7']\n\nCurrent Directory ./.git/objects/d6\nDirectories []\nFiles ['5282fd79afe7ad2aed23b84a82cbefd2f444a0']\n\nCurrent Directory ./.git/objects/ec\nDirectories []\nFiles ['268e7e1addd0af8cb86b028e68e4d46bfcd2e9']\n\nCurrent Directory ./.git/objects/07\nDirectories []\nFiles ['dc307bb29fa8d11b39b81a613574417a219f84']\n\nCurrent Directory ./.git/objects/e8\nDirectories []\nFiles ['84306275a3ee00e5806cd5f2ca6567c7df26dd']\n\nCurrent Directory ./.git/objects/63\nDirectories []\nFiles ['b94dd1f1ec3e1d1036b87c59f49dd380166efc']\n\nCurrent Directory ./.git/refs\nDirectories ['remotes', 'tags', 'heads']\nFiles []\n\nCurrent Directory ./.git/refs/remotes\nDirectories ['origin']\nFiles []\n\nCurrent Directory ./.git/refs/remotes/origin\nDirectories []\nFiles ['working_w_strings', 'beginner_os_module', 'master', 'working-w-functions', 'working-w-lists-booleans', 'working-w-numbers']\n\nCurrent Directory ./.git/refs/tags\nDirectories []\nFiles []\n\nCurrent Directory ./.git/refs/heads\nDirectories []\nFiles ['beginner_os_module', 'master', 'working-w-functions']\n\nCurrent Directory ./.git/hooks\nDirectories []\nFiles ['README.sample']\n\nCurrent Directory ./.git/info\nDirectories []\nFiles ['exclude']\n\nCurrent Directory ./.git/logs\nDirectories ['refs']\nFiles ['HEAD']\n\nCurrent Directory ./.git/logs/refs\nDirectories ['remotes', 'heads']\nFiles []\n\nCurrent Directory ./.git/logs/refs/remotes\nDirectories ['origin']\nFiles []\n\nCurrent Directory ./.git/logs/refs/remotes/origin\nDirectories []\nFiles ['working_w_strings', 'beginner_os_module', 'master', 'working-w-functions', 'working-w-lists-booleans', 'working-w-numbers']\n\nCurrent Directory ./.git/logs/refs/heads\nDirectories []\nFiles ['beginner_os_module', 'master', 'working-w-functions']\n\nCurrent Directory ./.vscode\nDirectories []\nFiles ['settings.json']\n\nCurrent Directory ./.ipynb_checkpoints\nDirectories []\nFiles ['beginners_my_module-checkpoint.py']\n\nCurrent Directory ./__pycache__\nDirectories []\nFiles ['beginners_my_module.cpython-37.pyc']\n\n"
    }
   ],
   "source": [
    "for dirpath, dirnames, filenames in os.walk(os.curdir):\n",
    "    print('Current Directory', dirpath)\n",
    "    print('Directories', dirnames)\n",
    "    print('Files', filenames)\n",
    "    print()"
   ]
  },
  {
   "cell_type": "code",
   "execution_count": 19,
   "metadata": {
    "tags": []
   },
   "outputs": [
    {
     "output_type": "stream",
     "name": "stdout",
     "text": "/home/alonkin\n"
    }
   ],
   "source": [
    "# Accesing env\n",
    "print(os.environ.get('HOME'))"
   ]
  },
  {
   "cell_type": "code",
   "execution_count": 25,
   "metadata": {
    "tags": []
   },
   "outputs": [
    {
     "output_type": "stream",
     "name": "stdout",
     "text": "test.txt\n/tmp\n('/tmp', 'test.txt')\nFalse\nFalse\nFalse\n('/tmp/test', '.txt')\n"
    }
   ],
   "source": [
    "# Grab a file's name from any string\n",
    "print(os.path.basename('/tmp/test.txt'))\n",
    "# Grab a folder's name from any string\n",
    "print(os.path.dirname('/tmp/test.txt'))\n",
    "# Grab both\n",
    "print(os.path.split('/tmp/test.txt'))\n",
    "# Check existance\n",
    "print(os.path.exists('/tmp/test.txt'))\n",
    "# Check if there is a file\n",
    "print(os.path.isfile('/tmp/test.txt'))\n",
    "# Check if there is a folder\n",
    "print(os.path.exists('/tmp/test.txt'))\n",
    "# Split filenames and extension of the file\n",
    "# Check existance\n",
    "print(os.path.splitext('/tmp/test.txt'))"
   ]
  },
  {
   "cell_type": "code",
   "execution_count": 23,
   "metadata": {
    "tags": []
   },
   "outputs": [
    {
     "output_type": "stream",
     "name": "stdout",
     "text": "False\n"
    }
   ],
   "source": []
  },
  {
   "cell_type": "code",
   "execution_count": null,
   "metadata": {},
   "outputs": [],
   "source": []
  }
 ]
}