{
 "cells": [
  {
   "cell_type": "markdown",
   "metadata": {},
   "source": [
    "# Lists"
   ]
  },
  {
   "cell_type": "code",
   "execution_count": 10,
   "metadata": {},
   "outputs": [
    {
     "output_type": "stream",
     "name": "stdout",
     "text": "['History', 'Math', 'Physics', 'CompSci']\n4\nHistory\nCompSci\n['Art', 'History', 'Math', 'Physics', 'CompSci', 'Geography']\n"
    }
   ],
   "source": [
    "courses = ['History', 'Math', \"Physics\", \"CompSci\"]\n",
    "\n",
    "print(courses)\n",
    "print(len(courses))\n",
    "print(courses[0])\n",
    "\n",
    "# Get the element in the last index\n",
    "print(courses[-1])\n",
    "\n",
    "# Add as the first element of our list\n",
    "courses.insert(0, 'Art')\n",
    "courses.append('Geography')\n",
    "\n",
    "print(courses)"
   ]
  },
  {
   "cell_type": "code",
   "execution_count": 13,
   "metadata": {},
   "outputs": [
    {
     "output_type": "stream",
     "name": "stdout",
     "text": "[['Art', 'Education'], 'History', 'Physics', 'CompSci', 'Art']\n['History', 'Math', 'Physics', 'CompSci', 'Art', 'Education']\n"
    }
   ],
   "source": [
    "courses_2 = ['Art', 'Education']\n",
    "\n",
    "# adds a list inside a list\n",
    "courses.insert(0, courses_2)\n",
    "print(courses)\n",
    "\n",
    "courses = ['History', 'Math', \"Physics\", \"CompSci\"]\n",
    "courses.extend(courses_2)\n",
    "print(courses)"
   ]
  },
  {
   "cell_type": "code",
   "execution_count": 14,
   "metadata": {},
   "outputs": [
    {
     "output_type": "stream",
     "name": "stdout",
     "text": "['History', 'Physics', 'CompSci', 'Art', 'Education']\n['History', 'Physics', 'CompSci', 'Art']\nArt\n"
    }
   ],
   "source": [
    "# remove the element `Math`\n",
    "courses.remove('Math')\n",
    "print(courses)\n",
    "\n",
    "# remove the last element\n",
    "courses.pop()\n",
    "print(courses)\n",
    "\n",
    "popped_value = courses.pop()\n",
    "print(popped_value)"
   ]
  },
  {
   "cell_type": "code",
   "execution_count": 18,
   "metadata": {},
   "outputs": [
    {
     "output_type": "stream",
     "name": "stdout",
     "text": "['History', 'Physics', 'CompSci']\n[1, 1, 3, 4, 5, 6]\n[6, 5, 4, 3, 1, 1]\nsorted [1, 1, 3, 4, 5, 6]\nnon-sorted [1, 5, 4, 3, 1, 6]\n"
    }
   ],
   "source": [
    "# reverse our list\n",
    "courses.reverse()\n",
    "print(courses)\n",
    "\n",
    "# sorting our list\n",
    "nums = [1,5,4,3,1,6]\n",
    "nums.sort()\n",
    "print(nums)\n",
    "\n",
    "# decending order\n",
    "nums.sort(reverse=True)\n",
    "print(nums)\n",
    "\n",
    "# sorting a list without affecting the original list\n",
    "nums = [1,5,4,3,1,6]\n",
    "sorted_nums = sorted(nums)\n",
    "print(\"sorted\", sorted_nums)\n",
    "print(\"non-sorted\", nums)\n"
   ]
  },
  {
   "cell_type": "code",
   "execution_count": 20,
   "metadata": {},
   "outputs": [
    {
     "output_type": "stream",
     "name": "stdout",
     "text": "2\nFalse\n"
    }
   ],
   "source": [
    "# searching for indexes of elements inside a list\n",
    "print(courses.index(\"CompSci\"))\n",
    "\n",
    "# Verify if an element exists inside the list\n",
    "print('art' in courses)"
   ]
  },
  {
   "cell_type": "code",
   "execution_count": 25,
   "metadata": {},
   "outputs": [
    {
     "output_type": "stream",
     "name": "stdout",
     "text": "1 History\n2 Physics\n3 CompSci\n"
    }
   ],
   "source": [
    "for index, item in enumerate(courses, start=1):\n",
    "    print(index, item)"
   ]
  },
  {
   "cell_type": "code",
   "execution_count": 27,
   "metadata": {},
   "outputs": [
    {
     "output_type": "stream",
     "name": "stdout",
     "text": "History - Physics - CompSci\n['History', 'Physics', 'CompSci']\n"
    }
   ],
   "source": [
    "course_str = ' - '.join(courses)\n",
    "print(course_str)\n",
    "\n",
    "new_list = course_str.split(' - ')\n",
    "print(new_list)"
   ]
  },
  {
   "cell_type": "markdown",
   "metadata": {},
   "source": [
    "# Tuples\n",
    "\n",
    "The main difference between lists and tuples are that lists are mutable and tuples are imutable"
   ]
  },
  {
   "cell_type": "code",
   "execution_count": 29,
   "metadata": {},
   "outputs": [
    {
     "output_type": "stream",
     "name": "stdout",
     "text": "['History', 'Math', 'Physics', 'CompSci']\n['History', 'Math', 'Physics', 'CompSci']\n['Art', 'Math', 'Physics', 'CompSci']\n['Art', 'Math', 'Physics', 'CompSci']\n"
    }
   ],
   "source": [
    "list_1 = ['History', 'Math', 'Physics', 'CompSci']\n",
    "list_2 = list_1\n",
    "\n",
    "print(list_1)\n",
    "print(list_2)\n",
    "\n",
    "# By changing list 1 value, we are changing list 2\n",
    "# Because both of them are the same mutable object\n",
    "list_1[0] = 'Art'\n",
    "\n",
    "print(list_1)\n",
    "print(list_2)"
   ]
  },
  {
   "cell_type": "code",
   "execution_count": 31,
   "metadata": {},
   "outputs": [
    {
     "output_type": "stream",
     "name": "stdout",
     "text": "('History', 'Math', 'Physics', 'CompSci')\n('History', 'Math', 'Physics', 'CompSci')\n"
    },
    {
     "output_type": "error",
     "ename": "TypeError",
     "evalue": "'tuple' object does not support item assignment",
     "traceback": [
      "\u001b[0;31m---------------------------------------------------------------------------\u001b[0m",
      "\u001b[0;31mTypeError\u001b[0m                                 Traceback (most recent call last)",
      "\u001b[0;32m<ipython-input-31-ba2da599cc9e>\u001b[0m in \u001b[0;36m<module>\u001b[0;34m\u001b[0m\n\u001b[1;32m      6\u001b[0m \u001b[0;34m\u001b[0m\u001b[0m\n\u001b[1;32m      7\u001b[0m \u001b[0;31m# This will throw an error because tuples are imutable\u001b[0m\u001b[0;34m\u001b[0m\u001b[0;34m\u001b[0m\u001b[0;34m\u001b[0m\u001b[0m\n\u001b[0;32m----> 8\u001b[0;31m \u001b[0mtuple_1\u001b[0m\u001b[0;34m[\u001b[0m\u001b[0;36m0\u001b[0m\u001b[0;34m]\u001b[0m \u001b[0;34m=\u001b[0m \u001b[0;34m'Art'\u001b[0m\u001b[0;34m\u001b[0m\u001b[0;34m\u001b[0m\u001b[0m\n\u001b[0m",
      "\u001b[0;31mTypeError\u001b[0m: 'tuple' object does not support item assignment"
     ]
    }
   ],
   "source": [
    "tuple_1 = ('History', 'Math', 'Physics', 'CompSci')\n",
    "tuple_2 = tuple_1\n",
    "\n",
    "print(tuple_1)\n",
    "print(tuple_2)\n",
    "\n",
    "# This will throw an error because tuples are imutable\n",
    "tuple_1[0] = 'Art'"
   ]
  },
  {
   "cell_type": "markdown",
   "metadata": {},
   "source": [
    "# Sets"
   ]
  },
  {
   "cell_type": "code",
   "execution_count": 37,
   "metadata": {},
   "outputs": [
    {
     "output_type": "stream",
     "name": "stdout",
     "text": "{'CompSci', 'History', 'Math', 'Physics'}\n{'CompSci', 'History', 'Math', 'Physics'}\nTrue\n{'History', 'Math'}\n{'CompSci', 'Physics'}\n{'Design', 'CompSci', 'Art', 'History', 'Physics', 'Math'}\n"
    }
   ],
   "source": [
    "cs_courses = {'History', 'Math', 'Physics', 'CompSci'}\n",
    "\n",
    "# The value order can change because sets does not care about order\n",
    "print(cs_courses)\n",
    "\n",
    "# Also, it does not allow duplicates\n",
    "cs_courses = {'History', 'Math', 'Physics', 'CompSci', 'Math'}\n",
    "print(cs_courses)\n",
    "\n",
    "print('Math' in cs_courses)\n",
    "\n",
    "art_courses = {'History', 'Math', 'Art', 'Design'}\n",
    "print(cs_courses.intersection(art_courses))\n",
    "print(cs_courses.difference(art_courses))\n",
    "print(cs_courses.union(art_courses))"
   ]
  },
  {
   "cell_type": "markdown",
   "metadata": {},
   "source": [
    "# Creating Empty Lists, Tuples and Sets"
   ]
  },
  {
   "cell_type": "code",
   "execution_count": 38,
   "metadata": {},
   "outputs": [],
   "source": [
    "# Empty Lists\n",
    "empty_list = []\n",
    "empty_list = list()\n",
    "\n",
    "# Empty Tuples \n",
    "empty_tuples = ()\n",
    "empty_tuples = tuple()\n",
    "\n",
    "# Empty Sets\n",
    "empty_set = {} # this is not a set, this is an empty dictionary\n",
    "empty_set = set()"
   ]
  },
  {
   "cell_type": "code",
   "execution_count": null,
   "metadata": {},
   "outputs": [],
   "source": []
  }
 ],
 "metadata": {
  "language_info": {
   "codemirror_mode": {
    "name": "ipython",
    "version": 3
   },
   "file_extension": ".py",
   "mimetype": "text/x-python",
   "name": "python",
   "nbconvert_exporter": "python",
   "pygments_lexer": "ipython3",
   "version": "3.7.6-final"
  },
  "orig_nbformat": 2,
  "kernelspec": {
   "name": "python3",
   "display_name": "Python 3"
  }
 },
 "nbformat": 4,
 "nbformat_minor": 2
}