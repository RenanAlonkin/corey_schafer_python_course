{
 "cells": [
  {
   "cell_type": "code",
   "execution_count": 2,
   "metadata": {},
   "outputs": [
    {
     "name": "stdout",
     "output_type": "stream",
     "text": [
      "<class 'int'>\n",
      "<class 'float'>\n"
     ]
    }
   ],
   "source": [
    "# Looking the variable type\n",
    "\n",
    "num_int = 3\n",
    "num_float = 3.14\n",
    "\n",
    "print(type(num_int))\n",
    "print(type(num_float))"
   ]
  },
  {
   "cell_type": "code",
   "execution_count": 1,
   "metadata": {},
   "outputs": [
    {
     "name": "stdout",
     "output_type": "stream",
     "text": "Add: 5\nSub: 1\nMult: 6\nDiv: 1.5\nInt div: 1\nExp: 9\nMod: 1\n"
    }
   ],
   "source": [
    "# Arithmetic Operators\n",
    "# Addition:         3 + 2\n",
    "# Subtraction:      3 - 2\n",
    "# Multiplication:   3 * 2\n",
    "# Division:         3 / 2\n",
    "# Floor Division:   3 // 2\n",
    "# Exponentiation:   3 ** 2\n",
    "# Modulus:          3 % 2\n",
    "\n",
    "print(\"Add:\", 3 + 2)\n",
    "print(\"Sub:\", 3 - 2)\n",
    "print(\"Mult:\", 3 * 2)\n",
    "print(\"Div:\", 3 / 2)\n",
    "print(\"Int div:\",3 // 2)\n",
    "print(\"Exp:\", 3 ** 2)\n",
    "print(\"Mod:\", 3 % 2)"
   ]
  },
  {
   "cell_type": "code",
   "execution_count": 3,
   "metadata": {},
   "outputs": [
    {
     "name": "stdout",
     "output_type": "stream",
     "text": "7\n9\n"
    }
   ],
   "source": [
    "# Order of operations\n",
    "\n",
    "# Multiply first, then add\n",
    "print(3 * 2 + 1)\n",
    "\n",
    "# Add first, then multiply\n",
    "print(3 * (2 + 1))"
   ]
  },
  {
   "cell_type": "code",
   "execution_count": 4,
   "metadata": {},
   "outputs": [
    {
     "name": "stdout",
     "output_type": "stream",
     "text": "2\n4\n"
    }
   ],
   "source": [
    "# Incrementing a variable\n",
    "\n",
    "num = 1\n",
    "# Same as `num = num + 1` \n",
    "num += 1\n",
    "print(num)\n",
    "\n",
    "# It works for any operation\n",
    "num *= 2\n",
    "print(num)"
   ]
  },
  {
   "cell_type": "code",
   "execution_count": 7,
   "metadata": {},
   "outputs": [
    {
     "name": "stdout",
     "output_type": "stream",
     "text": "3\n4\n3.8\n"
    }
   ],
   "source": [
    "# Built-in methods for numbers\n",
    "\n",
    "# Getting the Absolute value\n",
    "print(abs(-3))\n",
    "\n",
    "# Rounding value\n",
    "print(round(3.75))\n",
    "print(round(3.75, 1))"
   ]
  },
  {
   "cell_type": "code",
   "execution_count": 9,
   "metadata": {},
   "outputs": [
    {
     "name": "stdout",
     "output_type": "stream",
     "text": "False\nTrue\nTrue\nFalse\nTrue\nFalse\n"
    }
   ],
   "source": [
    "# Comparisons:\n",
    "\n",
    "# Equal:                3 == 1\n",
    "# Not Equal:            3 != 1\n",
    "# Greater Than:         3 > 2\n",
    "# Less Than:            3 < 2\n",
    "# Greater or Equal:     3 >= 2\n",
    "# Less or Equal:        3 <= 2\n",
    "\n",
    "print(3 == 1)\n",
    "print(3 != 1)\n",
    "print(3 > 1)\n",
    "print(3 < 1)\n",
    "print(3 >= 1)\n",
    "print(3 <= 1)"
   ]
  },
  {
   "cell_type": "code",
   "execution_count": 10,
   "metadata": {},
   "outputs": [
    {
     "name": "stdout",
     "output_type": "stream",
     "text": "100200\n300\n"
    }
   ],
   "source": [
    "# Casting\n",
    "\n",
    "num_1 = \"100\"\n",
    "num_2 = \"200\"\n",
    "\n",
    "print(num_1 + num_2)\n",
    "\n",
    "num_1 = int(num_1)\n",
    "num_2 = int(num_2)\n",
    "\n",
    "print(num_1 + num_2)"
   ]
  },
  {
   "cell_type": "code",
   "execution_count": null,
   "metadata": {},
   "outputs": [],
   "source": []
  }
 ],
 "metadata": {
  "kernelspec": {
   "display_name": "Python 3",
   "language": "python",
   "name": "python3"
  },
  "language_info": {
   "codemirror_mode": {
    "name": "ipython",
    "version": 3
   },
   "file_extension": ".py",
   "mimetype": "text/x-python",
   "name": "python",
   "nbconvert_exporter": "python",
   "pygments_lexer": "ipython3",
   "version": "3.7.4-final"
  }
 },
 "nbformat": 4,
 "nbformat_minor": 4
}