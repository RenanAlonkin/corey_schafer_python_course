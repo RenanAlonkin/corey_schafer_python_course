{
 "metadata": {
  "language_info": {
   "codemirror_mode": {
    "name": "ipython",
    "version": 3
   },
   "file_extension": ".py",
   "mimetype": "text/x-python",
   "name": "python",
   "nbconvert_exporter": "python",
   "pygments_lexer": "ipython3",
   "version": "3.7.7-final"
  },
  "orig_nbformat": 2,
  "kernelspec": {
   "name": "Python 3.7.7 64-bit ('studying': conda)",
   "display_name": "Python 3.7.7 64-bit ('studying': conda)",
   "metadata": {
    "interpreter": {
     "hash": "375de3278ecb5752d8f955835ca8124e512a0c84642b6df372aed965b23ae2e5"
    }
   }
  }
 },
 "nbformat": 4,
 "nbformat_minor": 2,
 "cells": [
  {
   "source": [
    "# Notes\n",
    "- Instance methods take `self` as the first argument\n",
    "- Class methods automatically takes `cls` as their first argument\n",
    "- Doesn't recieve any first argument, and doesn't use any variable inside of the class"
   ],
   "cell_type": "markdown",
   "metadata": {}
  },
  {
   "source": [
    "# Class Methods"
   ],
   "cell_type": "markdown",
   "metadata": {}
  },
  {
   "cell_type": "code",
   "execution_count": 3,
   "metadata": {},
   "outputs": [],
   "source": [
    "class Employee:\n",
    "    raise_amount = 1.04\n",
    "\n",
    "    def __init__(self, first, last, pay):\n",
    "        self.first = first\n",
    "        self.last = last\n",
    "        self.pay = pay\n",
    "        self.email = '{0}.{1}@company.com'.format(first, last).lower()\n",
    "\n",
    "    def fullname(self):\n",
    "        return '{0} {1}'.format(self.first, self.last)\n",
    "\n",
    "    def apply_raise(self):\n",
    "        self.pay = int(self.pay * self.raise_amount)\n",
    "\n",
    "    # Works as one for the whole class\n",
    "    # For example, it will change values for all instances\n",
    "    @classmethod\n",
    "    def set_raise_amount(cls, amount):\n",
    "        cls.raise_amount = amount"
   ]
  },
  {
   "cell_type": "code",
   "execution_count": 4,
   "metadata": {},
   "outputs": [],
   "source": [
    "emp_w_init_one = Employee('Vanna', 'Sweetheart', 60000)\n",
    "emp_w_init_two = Employee('Test', 'User', 50000)"
   ]
  },
  {
   "cell_type": "code",
   "execution_count": 5,
   "metadata": {
    "tags": []
   },
   "outputs": [
    {
     "output_type": "stream",
     "name": "stdout",
     "text": "1.04\n1.04\n"
    }
   ],
   "source": [
    "print(Employee.raise_amount)\n",
    "print(emp_w_init_one.raise_amount)"
   ]
  },
  {
   "cell_type": "code",
   "execution_count": 6,
   "metadata": {
    "tags": []
   },
   "outputs": [
    {
     "output_type": "stream",
     "name": "stdout",
     "text": "1.05\n1.05\n"
    }
   ],
   "source": [
    "# running through emp_w_init_one.set_raise_amount(1.05) also works\n",
    "Employee.set_raise_amount(1.05)\n",
    "print(Employee.raise_amount)\n",
    "print(emp_w_init_one.raise_amount)"
   ]
  },
  {
   "cell_type": "code",
   "execution_count": 9,
   "metadata": {
    "tags": []
   },
   "outputs": [
    {
     "output_type": "stream",
     "name": "stdout",
     "text": "lucas.varela@company.com\n70000\n"
    }
   ],
   "source": [
    "emp_str_1 = 'Lucas-Varela-70000'\n",
    "emp_str_2 = 'Masha-Umpronounceable-300000'\n",
    "emp_str_3 = 'Fernando-Bortoli-50000'\n",
    "\n",
    "first, last, pay = emp_str_1.split('-')\n",
    "new_emp = Employee(first, last, pay)\n",
    "\n",
    "print(new_emp.email)\n",
    "print(new_emp.pay)"
   ]
  },
  {
   "cell_type": "code",
   "execution_count": 10,
   "metadata": {},
   "outputs": [],
   "source": [
    "class Employee:\n",
    "    raise_amount = 1.04\n",
    "\n",
    "    def __init__(self, first, last, pay):\n",
    "        self.first = first\n",
    "        self.last = last\n",
    "        self.pay = pay\n",
    "        self.email = '{0}.{1}@company.com'.format(first, last).lower()\n",
    "\n",
    "    def fullname(self):\n",
    "        return '{0} {1}'.format(self.first, self.last)\n",
    "\n",
    "    def apply_raise(self):\n",
    "        self.pay = int(self.pay * self.raise_amount)\n",
    "\n",
    "    # Works as one for the whole class\n",
    "    # For example, it will change values for all instances\n",
    "    @classmethod\n",
    "    def set_raise_amount(cls, amount):\n",
    "        cls.raise_amount = amount\n",
    "\n",
    "    # Alternative constructor\n",
    "    @classmethod\n",
    "    def from_string(cls, emp_str):\n",
    "        first, last, pay = emp_str.split('-')\n",
    "        # Since we are using a classmethod, we can usse cls as \n",
    "        # the reference to our class\n",
    "        return cls(first, last, pay)"
   ]
  },
  {
   "cell_type": "code",
   "execution_count": 12,
   "metadata": {
    "tags": []
   },
   "outputs": [
    {
     "output_type": "stream",
     "name": "stdout",
     "text": "lucas.varela@company.com\n70000\n"
    }
   ],
   "source": [
    "emp_str_1 = 'Lucas-Varela-70000'\n",
    "emp_str_2 = 'Masha-Umpronounceable-300000'\n",
    "emp_str_3 = 'Fernando-Bortoli-50000'\n",
    "\n",
    "new_emp_1 = Employee.from_string(emp_str_1)\n",
    "\n",
    "print(new_emp_1.email)\n",
    "print(new_emp_1.pay)"
   ]
  },
  {
   "source": [
    "# Static Methods"
   ],
   "cell_type": "markdown",
   "metadata": {}
  },
  {
   "cell_type": "code",
   "execution_count": 14,
   "metadata": {},
   "outputs": [],
   "source": [
    "class Employee:\n",
    "    raise_amount = 1.04\n",
    "\n",
    "    def __init__(self, first, last, pay):\n",
    "        self.first = first\n",
    "        self.last = last\n",
    "        self.pay = pay\n",
    "        self.email = '{0}.{1}@company.com'.format(first, last).lower()\n",
    "\n",
    "    def fullname(self):\n",
    "        return '{0} {1}'.format(self.first, self.last)\n",
    "\n",
    "    def apply_raise(self):\n",
    "        self.pay = int(self.pay * self.raise_amount)\n",
    "\n",
    "    # Works as one for the whole class\n",
    "    # For example, it will change values for all instances\n",
    "    @classmethod\n",
    "    def set_raise_amount(cls, amount):\n",
    "        cls.raise_amount = amount\n",
    "\n",
    "    # Alternative constructor\n",
    "    @classmethod\n",
    "    def from_string(cls, emp_str):\n",
    "        first, last, pay = emp_str.split('-')\n",
    "        # Since we are using a classmethod, we can usse cls as \n",
    "        # the reference to our class\n",
    "        return cls(first, last, pay)\n",
    "\n",
    "    # Makes sense to be here with employee but doesn't use any of \n",
    "    # the employee's variables or instances as argument or value\n",
    "    @staticmethod\n",
    "    def is_workday(day):\n",
    "        if day.weekday() == 5 or day.weekday() == 6:\n",
    "            return False\n",
    "        return True"
   ]
  },
  {
   "cell_type": "code",
   "execution_count": 17,
   "metadata": {
    "tags": []
   },
   "outputs": [
    {
     "output_type": "stream",
     "name": "stdout",
     "text": "False\n"
    }
   ],
   "source": [
    "import datetime\n",
    "\n",
    "my_date = datetime.date(2016, 7, 10)\n",
    "print(Employee.is_workday(my_date))"
   ]
  }
 ]
}