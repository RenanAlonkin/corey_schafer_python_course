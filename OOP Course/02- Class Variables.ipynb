{
 "metadata": {
  "language_info": {
   "codemirror_mode": {
    "name": "ipython",
    "version": 3
   },
   "file_extension": ".py",
   "mimetype": "text/x-python",
   "name": "python",
   "nbconvert_exporter": "python",
   "pygments_lexer": "ipython3",
   "version": "3.7.6-final"
  },
  "orig_nbformat": 2,
  "kernelspec": {
   "name": "Python 3.7.6 64-bit ('base': conda)",
   "display_name": "Python 3.7.6 64-bit ('base': conda)",
   "metadata": {
    "interpreter": {
     "hash": "3557435acd75fc5faa5951f595f998356aaec2c348ba8ce54025a59aa5752b02"
    }
   }
  }
 },
 "nbformat": 4,
 "nbformat_minor": 2,
 "cells": [
  {
   "cell_type": "code",
   "execution_count": 1,
   "metadata": {},
   "outputs": [],
   "source": [
    "#Class variables: are variables shared with all instances of a class\n",
    "class Employee:\n",
    "    def __init__(self, first, last, pay):\n",
    "        self.first = first\n",
    "        self.last = last\n",
    "        self.pay = pay\n",
    "        self.email = '{0}.{1}@company.com'.format(first, last).lower()\n",
    "\n",
    "    def fullname(self):\n",
    "        return '{0} {1}'.format(self.first, self.last)\n",
    "\n",
    "    def apply_raise(self):\n",
    "        self.pay = int(self.pay * 1.04)"
   ]
  },
  {
   "cell_type": "code",
   "execution_count": 2,
   "metadata": {
    "tags": []
   },
   "outputs": [],
   "source": [
    "emp_w_init_one = Employee('Vanna', 'Sweetheart', 60000)\n",
    "emp_w_init_two = Employee('Test', 'User', 50000)"
   ]
  },
  {
   "cell_type": "code",
   "execution_count": 3,
   "metadata": {
    "tags": []
   },
   "outputs": [
    {
     "output_type": "stream",
     "name": "stdout",
     "text": "60000\n62400\n"
    }
   ],
   "source": [
    "print(emp_w_init_one.pay)\n",
    "emp_w_init_one.apply_raise()\n",
    "print(emp_w_init_one.pay)"
   ]
  },
  {
   "cell_type": "code",
   "execution_count": 15,
   "metadata": {},
   "outputs": [],
   "source": [
    "#Class variables: are variables shared with all instances of a class\n",
    "class Employee:\n",
    "    raise_amount = 1.04\n",
    "\n",
    "    def __init__(self, first, last, pay):\n",
    "        self.first = first\n",
    "        self.last = last\n",
    "        self.pay = pay\n",
    "        self.email = '{0}.{1}@company.com'.format(first, last).lower()\n",
    "\n",
    "    def fullname(self):\n",
    "        return '{0} {1}'.format(self.first, self.last)\n",
    "\n",
    "    def apply_raise(self):\n",
    "        self.pay = int(self.pay * self.raise_amount)\n",
    "        # This also works Employee.raise_amount\n",
    "        # But using that way would not work if any instance\n",
    "        # Of employee try to change the value of raise_amount"
   ]
  },
  {
   "cell_type": "code",
   "execution_count": 16,
   "metadata": {},
   "outputs": [],
   "source": [
    "emp_w_init_one = Employee('Vanna', 'Sweetheart', 60000)\n",
    "emp_w_init_two = Employee('Test', 'User', 50000)"
   ]
  },
  {
   "cell_type": "code",
   "execution_count": 17,
   "metadata": {
    "tags": []
   },
   "outputs": [
    {
     "output_type": "stream",
     "name": "stdout",
     "text": "1.04\n1.04\n"
    }
   ],
   "source": [
    "print(Employee.raise_amount)\n",
    "print(emp_w_init_one.raise_amount)"
   ]
  },
  {
   "cell_type": "code",
   "execution_count": 18,
   "metadata": {
    "tags": []
   },
   "outputs": [
    {
     "output_type": "stream",
     "name": "stdout",
     "text": "{&#39;first&#39;: &#39;Vanna&#39;, &#39;last&#39;: &#39;Sweetheart&#39;, &#39;pay&#39;: 60000, &#39;email&#39;: &#39;vanna.sweetheart@company.com&#39;}\n"
    }
   ],
   "source": [
    "print(emp_w_init_one.__dict__)"
   ]
  },
  {
   "cell_type": "code",
   "execution_count": 19,
   "metadata": {
    "tags": []
   },
   "outputs": [
    {
     "output_type": "stream",
     "name": "stdout",
     "text": "{&#39;__module__&#39;: &#39;__main__&#39;, &#39;raise_amount&#39;: 1.04, &#39;__init__&#39;: &lt;function Employee.__init__ at 0x7f720c03cef0&gt;, &#39;fullname&#39;: &lt;function Employee.fullname at 0x7f720c03c050&gt;, &#39;apply_raise&#39;: &lt;function Employee.apply_raise at 0x7f720c03ce60&gt;, &#39;__dict__&#39;: &lt;attribute &#39;__dict__&#39; of &#39;Employee&#39; objects&gt;, &#39;__weakref__&#39;: &lt;attribute &#39;__weakref__&#39; of &#39;Employee&#39; objects&gt;, &#39;__doc__&#39;: None}\n"
    }
   ],
   "source": [
    "print(Employee.__dict__)"
   ]
  },
  {
   "cell_type": "code",
   "execution_count": 20,
   "metadata": {
    "tags": []
   },
   "outputs": [
    {
     "output_type": "stream",
     "name": "stdout",
     "text": "1.05\n1.05\n{&#39;first&#39;: &#39;Vanna&#39;, &#39;last&#39;: &#39;Sweetheart&#39;, &#39;pay&#39;: 60000, &#39;email&#39;: &#39;vanna.sweetheart@company.com&#39;}\n"
    }
   ],
   "source": [
    "Employee.raise_amount = 1.05\n",
    "print(Employee.raise_amount)\n",
    "print(emp_w_init_one.raise_amount)\n",
    "print(emp_w_init_one.__dict__)"
   ]
  },
  {
   "cell_type": "code",
   "execution_count": 21,
   "metadata": {
    "tags": []
   },
   "outputs": [
    {
     "output_type": "stream",
     "name": "stdout",
     "text": "1.05\n1.06\n{&#39;first&#39;: &#39;Vanna&#39;, &#39;last&#39;: &#39;Sweetheart&#39;, &#39;pay&#39;: 60000, &#39;email&#39;: &#39;vanna.sweetheart@company.com&#39;, &#39;raise_amount&#39;: 1.06}\n"
    }
   ],
   "source": [
    "emp_w_init_one.raise_amount = 1.06\n",
    "print(Employee.raise_amount)\n",
    "print(emp_w_init_one.raise_amount)\n",
    "print(emp_w_init_one.__dict__)"
   ]
  },
  {
   "cell_type": "code",
   "execution_count": 22,
   "metadata": {},
   "outputs": [],
   "source": [
    "class Employee:\n",
    "    num_of_emps = 0\n",
    "    raise_amount = 1.04\n",
    "\n",
    "    def __init__(self, first, last, pay):\n",
    "        self.first = first\n",
    "        self.last = last\n",
    "        self.pay = pay\n",
    "        self.email = '{0}.{1}@company.com'.format(first, last).lower()\n",
    "        \n",
    "        Employee.num_of_emps += 1\n",
    "\n",
    "    def fullname(self):\n",
    "        return '{0} {1}'.format(self.first, self.last)\n",
    "\n",
    "    def apply_raise(self):\n",
    "        self.pay = int(self.pay * self.raise_amount)\n",
    "        # This also works Employee.raise_amount\n",
    "        # But using that way would not work if any instance\n",
    "        # Of employee try to change the value of raise_amount"
   ]
  },
  {
   "cell_type": "code",
   "execution_count": 23,
   "metadata": {
    "tags": []
   },
   "outputs": [
    {
     "output_type": "stream",
     "name": "stdout",
     "text": "2\n"
    }
   ],
   "source": [
    "emp_w_init_one = Employee('Vanna', 'Sweetheart', 60000)\n",
    "emp_w_init_two = Employee('Test', 'User', 50000)\n",
    "\n",
    "print(Employee.num_of_emps)"
   ]
  },
  {
   "cell_type": "code",
   "execution_count": null,
   "metadata": {},
   "outputs": [],
   "source": []
  }
 ]
}