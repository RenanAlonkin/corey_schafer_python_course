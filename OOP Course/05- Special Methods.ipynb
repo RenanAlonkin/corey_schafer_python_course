{
 "metadata": {
  "language_info": {
   "codemirror_mode": {
    "name": "ipython",
    "version": 3
   },
   "file_extension": ".py",
   "mimetype": "text/x-python",
   "name": "python",
   "nbconvert_exporter": "python",
   "pygments_lexer": "ipython3",
   "version": "3.7.7-final"
  },
  "orig_nbformat": 2,
  "kernelspec": {
   "name": "Python 3.7.7 64-bit ('studying': conda)",
   "display_name": "Python 3.7.7 64-bit ('studying': conda)",
   "metadata": {
    "interpreter": {
     "hash": "375de3278ecb5752d8f955835ca8124e512a0c84642b6df372aed965b23ae2e5"
    }
   }
  }
 },
 "nbformat": 4,
 "nbformat_minor": 2,
 "cells": [
  {
   "source": [
    "### Both behave differently\n",
    "`print(1 + 2)` <br> \n",
    "`print('a' + 'b')` \n",
    "\n",
    "### dunder = Double Underscore methods"
   ],
   "cell_type": "markdown",
   "metadata": {
    "tags": []
   }
  },
  {
   "cell_type": "code",
   "execution_count": 7,
   "metadata": {},
   "outputs": [],
   "source": [
    "class Employee:\n",
    "    raise_amount = 1.04\n",
    "\n",
    "    def __init__(self, first, last, pay):\n",
    "        self.first = first\n",
    "        self.last = last\n",
    "        self.pay = pay\n",
    "        self.email = '{0}.{1}@company.com'.format(first, last).lower()\n",
    "\n",
    "    def fullname(self):\n",
    "        return '{0} {1}'.format(self.first, self.last)\n",
    "\n",
    "    def apply_raise(self):\n",
    "        self.pay = int(self.pay * self.raise_amount)\n",
    "\n",
    "    # Works as one for the whole class\n",
    "    # For example, it will change values for all instances\n",
    "    @classmethod\n",
    "    def set_raise_amount(cls, amount):\n",
    "        cls.raise_amount = amount\n",
    "\n",
    "    # Alternative constructor\n",
    "    @classmethod\n",
    "    def from_string(cls, emp_str):\n",
    "        first, last, pay = emp_str.split('-')\n",
    "        # Since we are using a classmethod, we can usse cls as \n",
    "        # the reference to our class\n",
    "        return cls(first, last, pay)\n",
    "\n",
    "    # Makes sense to be here with employee but doesn't use any of \n",
    "    # the employee's variables or instances as argument or value\n",
    "    @staticmethod\n",
    "    def is_workday(day):\n",
    "        if day.weekday() == 5 or day.weekday() == 6:\n",
    "            return False\n",
    "        return True\n",
    "\n",
    "    # Ununbiguous representation of the method, used for debugging\n",
    "    def __repr__(self):\n",
    "        return \"Employee('{}','{}','{}')\".format(self.first, self.last, self.pay)\n",
    "\n",
    "    # Readable version of the object, shown to the user\n",
    "    # def __str__(self):\n",
    "    #     pass"
   ]
  },
  {
   "cell_type": "code",
   "execution_count": 8,
   "metadata": {
    "tags": []
   },
   "outputs": [
    {
     "output_type": "stream",
     "name": "stdout",
     "text": "Employee(&#39;Vanna&#39;,&#39;Sweetheart&#39;,&#39;60000&#39;)\n"
    }
   ],
   "source": [
    "emp_w_init_one = Employee('Vanna', 'Sweetheart', 60000)\n",
    "\n",
    "# Based on what we implemented on __repr__, it will\n",
    "# Return a string used to create the object\n",
    "print(emp_w_init_one)"
   ]
  },
  {
   "cell_type": "code",
   "execution_count": 9,
   "metadata": {},
   "outputs": [],
   "source": [
    "class Employee:\n",
    "    raise_amount = 1.04\n",
    "\n",
    "    def __init__(self, first, last, pay):\n",
    "        self.first = first\n",
    "        self.last = last\n",
    "        self.pay = pay\n",
    "        self.email = '{0}.{1}@company.com'.format(first, last).lower()\n",
    "\n",
    "    def fullname(self):\n",
    "        return '{0} {1}'.format(self.first, self.last)\n",
    "\n",
    "    def apply_raise(self):\n",
    "        self.pay = int(self.pay * self.raise_amount)\n",
    "\n",
    "    # Works as one for the whole class\n",
    "    # For example, it will change values for all instances\n",
    "    @classmethod\n",
    "    def set_raise_amount(cls, amount):\n",
    "        cls.raise_amount = amount\n",
    "\n",
    "    # Alternative constructor\n",
    "    @classmethod\n",
    "    def from_string(cls, emp_str):\n",
    "        first, last, pay = emp_str.split('-')\n",
    "        # Since we are using a classmethod, we can usse cls as \n",
    "        # the reference to our class\n",
    "        return cls(first, last, pay)\n",
    "\n",
    "    # Makes sense to be here with employee but doesn't use any of \n",
    "    # the employee's variables or instances as argument or value\n",
    "    @staticmethod\n",
    "    def is_workday(day):\n",
    "        if day.weekday() == 5 or day.weekday() == 6:\n",
    "            return False\n",
    "        return True\n",
    "\n",
    "    # Ununbiguous representation of the method, used for debugging\n",
    "    def __repr__(self):\n",
    "        return \"Employee('{}','{}','{}')\".format(self.first, self.last, self.pay)\n",
    "\n",
    "    # Readable version of the object, shown to the user\n",
    "    def __str__(self):\n",
    "        return '{} - {}'.format(self.fullname(), self.email)"
   ]
  },
  {
   "cell_type": "code",
   "execution_count": 10,
   "metadata": {
    "tags": []
   },
   "outputs": [
    {
     "output_type": "stream",
     "name": "stdout",
     "text": "Vanna Sweetheart - vanna.sweetheart@company.com\n"
    }
   ],
   "source": [
    "emp_w_init_one = Employee('Vanna', 'Sweetheart', 60000)\n",
    "\n",
    "# Will return the description made in the __str__ method\n",
    "print(emp_w_init_one)"
   ]
  },
  {
   "cell_type": "code",
   "execution_count": 13,
   "metadata": {
    "tags": []
   },
   "outputs": [
    {
     "output_type": "stream",
     "name": "stdout",
     "text": "repr: Employee(&#39;Vanna&#39;,&#39;Sweetheart&#39;,&#39;60000&#39;)\nstr: Vanna Sweetheart - vanna.sweetheart@company.com\n"
    }
   ],
   "source": [
    "# Showing differences\n",
    "print('repr:', repr(emp_w_init_one))\n",
    "print('str:', str(emp_w_init_one))"
   ]
  },
  {
   "source": [
    "# Showing dunder methods"
   ],
   "cell_type": "markdown",
   "metadata": {}
  },
  {
   "cell_type": "code",
   "execution_count": 14,
   "metadata": {
    "tags": []
   },
   "outputs": [
    {
     "output_type": "stream",
     "name": "stdout",
     "text": "3\n3\nab\n"
    }
   ],
   "source": [
    "print(1 + 2)\n",
    "\n",
    "print(int.__add__(1,2))\n",
    "print(str.__add__('a', 'b'))"
   ]
  },
  {
   "cell_type": "code",
   "execution_count": 15,
   "metadata": {},
   "outputs": [],
   "source": [
    "class Employee:\n",
    "    raise_amount = 1.04\n",
    "\n",
    "    def __init__(self, first, last, pay):\n",
    "        self.first = first\n",
    "        self.last = last\n",
    "        self.pay = pay\n",
    "        self.email = '{0}.{1}@company.com'.format(first, last).lower()\n",
    "\n",
    "    def fullname(self):\n",
    "        return '{0} {1}'.format(self.first, self.last)\n",
    "\n",
    "    def apply_raise(self):\n",
    "        self.pay = int(self.pay * self.raise_amount)\n",
    "\n",
    "    # Works as one for the whole class\n",
    "    # For example, it will change values for all instances\n",
    "    @classmethod\n",
    "    def set_raise_amount(cls, amount):\n",
    "        cls.raise_amount = amount\n",
    "\n",
    "    # Alternative constructor\n",
    "    @classmethod\n",
    "    def from_string(cls, emp_str):\n",
    "        first, last, pay = emp_str.split('-')\n",
    "        # Since we are using a classmethod, we can usse cls as \n",
    "        # the reference to our class\n",
    "        return cls(first, last, pay)\n",
    "\n",
    "    # Makes sense to be here with employee but doesn't use any of \n",
    "    # the employee's variables or instances as argument or value\n",
    "    @staticmethod\n",
    "    def is_workday(day):\n",
    "        if day.weekday() == 5 or day.weekday() == 6:\n",
    "            return False\n",
    "        return True\n",
    "\n",
    "    # Ununbiguous representation of the method, used for debugging\n",
    "    def __repr__(self):\n",
    "        return \"Employee('{}','{}','{}')\".format(self.first, self.last, self.pay)\n",
    "\n",
    "    # Readable version of the object, shown to the user\n",
    "    def __str__(self):\n",
    "        return '{} - {}'.format(self.fullname(), self.email)\n",
    "\n",
    "    # Custom dunder method example\n",
    "    def __add__(self, other):\n",
    "        return self.pay + other.pay"
   ]
  },
  {
   "cell_type": "code",
   "execution_count": 16,
   "metadata": {
    "tags": []
   },
   "outputs": [
    {
     "output_type": "stream",
     "name": "stdout",
     "text": "120000\n"
    }
   ],
   "source": [
    "emp_01 = Employee('Jeferson', '01', 60000)\n",
    "emp_02 = Employee('Lucas', '01', 60000)\n",
    "\n",
    "print(emp_01 + emp_02)"
   ]
  },
  {
   "cell_type": "code",
   "execution_count": null,
   "metadata": {},
   "outputs": [],
   "source": []
  }
 ]
}