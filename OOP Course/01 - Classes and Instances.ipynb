{
 "metadata": {
  "language_info": {
   "codemirror_mode": {
    "name": "ipython",
    "version": 3
   },
   "file_extension": ".py",
   "mimetype": "text/x-python",
   "name": "python",
   "nbconvert_exporter": "python",
   "pygments_lexer": "ipython3",
   "version": "3.8.2-final"
  },
  "orig_nbformat": 2
 },
 "nbformat": 4,
 "nbformat_minor": 2,
 "cells": [
  {
   "source": [
    "class Employee:\n",
    "    # If you need to create an object/function for the future but\n",
    "    # You can put pass so it won't give you an error\n",
    "    pass "
   ],
   "cell_type": "code",
   "metadata": {},
   "execution_count": 2,
   "outputs": []
  },
  {
   "cell_type": "code",
   "execution_count": 3,
   "metadata": {
    "tags": []
   },
   "outputs": [
    {
     "output_type": "stream",
     "name": "stdout",
     "text": "<__main__.Employee object at 0x7ff7cde071d0>\n<__main__.Employee object at 0x7ff7cde074d0>\n"
    }
   ],
   "source": [
    "emp_one = Employee()\n",
    "emp_two = Employee()\n",
    "\n",
    "print(emp_one)\n",
    "print(emp_two)"
   ]
  },
  {
   "cell_type": "code",
   "execution_count": 6,
   "metadata": {
    "tags": []
   },
   "outputs": [
    {
     "output_type": "stream",
     "name": "stdout",
     "text": "vanna.sweetheart@company.com\ntest.user@company.com\n"
    }
   ],
   "source": [
    "emp_one.first = 'Vanna'\n",
    "emp_one.last = 'Sweetheart'\n",
    "emp_one.email = 'vanna.sweetheart@company.com'\n",
    "emp_one.pay = 60000\n",
    "\n",
    "emp_two.first = 'Test'\n",
    "emp_two.last = 'User'\n",
    "emp_two.email = 'test.user@company.com'\n",
    "emp_two.pay = 50000\n",
    "\n",
    "print(emp_one.email)\n",
    "print(emp_two.email)"
   ]
  },
  {
   "cell_type": "code",
   "execution_count": 11,
   "metadata": {},
   "outputs": [],
   "source": [
    "class Employee:\n",
    "    # Constructor\n",
    "    def __init__(self, first, last, pay):\n",
    "        self.first = first\n",
    "        self.last = last\n",
    "        self.pay = pay\n",
    "        self.email = '{0}.{1}@company.com'.format(first, last).lower()\n",
    "\n",
    "    def fullname(self):\n",
    "        return '{0} {1}'.format(self.first, self.last)"
   ]
  },
  {
   "cell_type": "code",
   "execution_count": 14,
   "metadata": {
    "tags": []
   },
   "outputs": [
    {
     "output_type": "stream",
     "name": "stdout",
     "text": "vanna.sweetheart@company.com\ntest.user@company.com\nVanna Sweetheart\nTest User\n"
    }
   ],
   "source": [
    "emp_w_init_one = Employee('Vanna', 'Sweetheart', 60000)\n",
    "emp_w_init_two = Employee('Test', 'User', 50000)\n",
    "\n",
    "print(emp_w_init_one.email)\n",
    "print(emp_w_init_two.email)"
   ]
  },
  {
   "cell_type": "code",
   "execution_count": 15,
   "metadata": {
    "tags": []
   },
   "outputs": [
    {
     "output_type": "stream",
     "name": "stdout",
     "text": "Vanna Sweetheart\nTest User\n"
    }
   ],
   "source": [
    "print(emp_w_init_one.fullname())\n",
    "print(emp_w_init_two.fullname())"
   ]
  },
  {
   "cell_type": "code",
   "execution_count": 16,
   "metadata": {},
   "outputs": [
    {
     "output_type": "execute_result",
     "data": {
      "text/plain": "'Vanna Sweetheart'"
     },
     "metadata": {},
     "execution_count": 16
    }
   ],
   "source": [
    "# Since fullname uses self, to be more precise, an instance\n",
    "# You can use this instead of using the object to print it out\n",
    "Employee.fullname(emp_w_init_one)"
   ]
  },
  {
   "cell_type": "code",
   "execution_count": null,
   "metadata": {},
   "outputs": [],
   "source": []
  }
 ]
}