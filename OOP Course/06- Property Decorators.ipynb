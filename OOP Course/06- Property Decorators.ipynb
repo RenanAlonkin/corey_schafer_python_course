{
 "metadata": {
  "language_info": {
   "codemirror_mode": {
    "name": "ipython",
    "version": 3
   },
   "file_extension": ".py",
   "mimetype": "text/x-python",
   "name": "python",
   "nbconvert_exporter": "python",
   "pygments_lexer": "ipython3",
   "version": "3.7.7-final"
  },
  "orig_nbformat": 2,
  "kernelspec": {
   "name": "Python 3.7.7 64-bit ('studying': conda)",
   "display_name": "Python 3.7.7 64-bit ('studying': conda)",
   "metadata": {
    "interpreter": {
     "hash": "375de3278ecb5752d8f955835ca8124e512a0c84642b6df372aed965b23ae2e5"
    }
   }
  }
 },
 "nbformat": 4,
 "nbformat_minor": 2,
 "cells": [
  {
   "cell_type": "code",
   "execution_count": 1,
   "metadata": {},
   "outputs": [],
   "source": [
    "class Employee:\n",
    "    raise_amount = 1.04\n",
    "\n",
    "    def __init__(self, first, last, pay):\n",
    "        self.first = first\n",
    "        self.last = last\n",
    "        self.pay = pay\n",
    "        self.email = '{0}.{1}@company.com'.format(first, last).lower()\n",
    "\n",
    "    def fullname(self):\n",
    "        return '{0} {1}'.format(self.first, self.last)\n",
    "\n",
    "    def apply_raise(self):\n",
    "        self.pay = int(self.pay * self.raise_amount)\n",
    "\n",
    "    # Works as one for the whole class\n",
    "    # For example, it will change values for all instances\n",
    "    @classmethod\n",
    "    def set_raise_amount(cls, amount):\n",
    "        cls.raise_amount = amount\n",
    "\n",
    "    # Alternative constructor\n",
    "    @classmethod\n",
    "    def from_string(cls, emp_str):\n",
    "        first, last, pay = emp_str.split('-')\n",
    "        # Since we are using a classmethod, we can usse cls as \n",
    "        # the reference to our class\n",
    "        return cls(first, last, pay)\n",
    "\n",
    "    # Makes sense to be here with employee but doesn't use any of \n",
    "    # the employee's variables or instances as argument or value\n",
    "    @staticmethod\n",
    "    def is_workday(day):\n",
    "        if day.weekday() == 5 or day.weekday() == 6:\n",
    "            return False\n",
    "        return True\n",
    "\n",
    "    # Ununbiguous representation of the method, used for debugging\n",
    "    def __repr__(self):\n",
    "        return \"Employee('{}','{}','{}')\".format(self.first, self.last, self.pay)\n",
    "\n",
    "    # Readable version of the object, shown to the user\n",
    "    def __str__(self):\n",
    "        return '{} - {}'.format(self.fullname(), self.email)\n",
    "\n",
    "    # Custom dunder method example\n",
    "    def __add__(self, other):\n",
    "        return self.pay + other.pay"
   ]
  },
  {
   "cell_type": "code",
   "execution_count": 2,
   "metadata": {},
   "outputs": [
    {
     "output_type": "stream",
     "name": "stdout",
     "text": [
      "Lucas\nlucas.varela@company.com\nLucas Varela\n"
     ]
    }
   ],
   "source": [
    "emp_01 = Employee('Lucas', 'Varela', 20000)\n",
    "\n",
    "print(emp_01.first)\n",
    "print(emp_01.email)\n",
    "print(emp_01.fullname())"
   ]
  },
  {
   "cell_type": "code",
   "execution_count": 5,
   "metadata": {},
   "outputs": [
    {
     "output_type": "stream",
     "name": "stdout",
     "text": [
      "Marvin\nlucas.varela@company.com\nMarvin Varela\n"
     ]
    }
   ],
   "source": [
    "emp_01.first='Marvin'\n",
    "\n",
    "print(emp_01.first)\n",
    "# Not going to show Marvin because we set that value\n",
    "# on the constructor\n",
    "print(emp_01.email)\n",
    "print(emp_01.fullname())"
   ]
  },
  {
   "cell_type": "code",
   "execution_count": 12,
   "metadata": {},
   "outputs": [],
   "source": [
    "\n",
    "class Employee:\n",
    "    raise_amount = 1.04\n",
    "\n",
    "    def __init__(self, first, last, pay):\n",
    "        self.first = first\n",
    "        self.last = last\n",
    "        self.pay = pay\n",
    "\n",
    "    def fullname(self):\n",
    "        return '{0} {1}'.format(self.first, self.last)\n",
    "\n",
    "    def apply_raise(self):\n",
    "        self.pay = int(self.pay * self.raise_amount)\n",
    "\n",
    "    @classmethod\n",
    "    def set_raise_amount(cls, amount):\n",
    "        cls.raise_amount = amount\n",
    "\n",
    "    @classmethod\n",
    "    def from_string(cls, emp_str):\n",
    "        first, last, pay = emp_str.split('-')\n",
    "        return cls(first, last, pay)\n",
    "\n",
    "    @staticmethod\n",
    "    def is_workday(day):\n",
    "        if day.weekday() == 5 or day.weekday() == 6:\n",
    "            return False\n",
    "        return True\n",
    "\n",
    "    def __repr__(self):\n",
    "        return \"Employee('{}','{}','{}')\".format(self.first, self.last, self.pay)\n",
    "\n",
    "    def __str__(self):\n",
    "        return '{} - {}'.format(self.fullname(), self.email)\n",
    "\n",
    "    def __add__(self, other):\n",
    "        return self.pay + other.pay\n",
    "\n",
    "    # Email Method\n",
    "    # It would work, but would require for the user to\n",
    "    # rewrite everytime that you used this email\n",
    "    def email(self):\n",
    "        return '{0}.{1}@company.com'.format(self.first, self.last).lower()"
   ]
  },
  {
   "cell_type": "code",
   "execution_count": 13,
   "metadata": {},
   "outputs": [
    {
     "output_type": "stream",
     "name": "stdout",
     "text": [
      "Marvin\nmarvin.varela@company.com\nMarvin Varela\n"
     ]
    }
   ],
   "source": [
    "emp_01 = Employee('Lucas', 'Varela', 20000)\n",
    "emp_01.first='Marvin'\n",
    "\n",
    "print(emp_01.first)\n",
    "# Would require you to change from emp_01.email to\n",
    "# emp_01.email()\n",
    "print(emp_01.email())\n",
    "print(emp_01.fullname())"
   ]
  },
  {
   "source": [
    "# Using decorators\n",
    "\n",
    "## `@property`"
   ],
   "cell_type": "markdown",
   "metadata": {}
  },
  {
   "cell_type": "code",
   "execution_count": 16,
   "metadata": {},
   "outputs": [],
   "source": [
    "\n",
    "class Employee:\n",
    "    raise_amount = 1.04\n",
    "\n",
    "    def __init__(self, first, last, pay):\n",
    "        self.first = first\n",
    "        self.last = last\n",
    "        self.pay = pay\n",
    "\n",
    "    # Makes fullname accessable as an attribute, \n",
    "    # but it is declared as a method\n",
    "    @property\n",
    "    def fullname(self):\n",
    "        return '{0} {1}'.format(self.first, self.last)\n",
    "\n",
    "    def apply_raise(self):\n",
    "        self.pay = int(self.pay * self.raise_amount)\n",
    "\n",
    "    @classmethod\n",
    "    def set_raise_amount(cls, amount):\n",
    "        cls.raise_amount = amount\n",
    "\n",
    "    @classmethod\n",
    "    def from_string(cls, emp_str):\n",
    "        first, last, pay = emp_str.split('-')\n",
    "        return cls(first, last, pay)\n",
    "\n",
    "    @staticmethod\n",
    "    def is_workday(day):\n",
    "        if day.weekday() == 5 or day.weekday() == 6:\n",
    "            return False\n",
    "        return True\n",
    "\n",
    "    def __repr__(self):\n",
    "        return \"Employee('{}','{}','{}')\".format(self.first, self.last, self.pay)\n",
    "\n",
    "    def __str__(self):\n",
    "        return '{} - {}'.format(self.fullname(), self.email)\n",
    "\n",
    "    def __add__(self, other):\n",
    "        return self.pay + other.pay\n",
    "\n",
    "    # Makes email accessable as an attribute, \n",
    "    # but it is declared as a method\n",
    "    @property\n",
    "    def email(self):\n",
    "        return '{0}.{1}@company.com'.format(self.first, self.last).lower()"
   ]
  },
  {
   "cell_type": "code",
   "execution_count": 18,
   "metadata": {},
   "outputs": [
    {
     "output_type": "stream",
     "name": "stdout",
     "text": [
      "Marvin\nmarvin.varela@company.com\nMarvin Varela\n"
     ]
    }
   ],
   "source": [
    "emp_01 = Employee('Lucas', 'Varela', 20000)\n",
    "emp_01.first='Marvin'\n",
    "\n",
    "print(emp_01.first)\n",
    "print(emp_01.email)\n",
    "print(emp_01.fullname)"
   ]
  },
  {
   "source": [
    "## `@getters` and `@setters`\n"
   ],
   "cell_type": "markdown",
   "metadata": {}
  },
  {
   "cell_type": "code",
   "execution_count": 20,
   "metadata": {},
   "outputs": [
    {
     "output_type": "error",
     "ename": "AttributeError",
     "evalue": "can't set attribute",
     "traceback": [
      "\u001b[0;31m---------------------------------------------------------------------------\u001b[0m",
      "\u001b[0;31mAttributeError\u001b[0m                            Traceback (most recent call last)",
      "\u001b[0;32m<ipython-input-20-d5ec9e1b5c71>\u001b[0m in \u001b[0;36m<module>\u001b[0;34m\u001b[0m\n\u001b[1;32m      1\u001b[0m \u001b[0memp_01\u001b[0m \u001b[0;34m=\u001b[0m \u001b[0mEmployee\u001b[0m\u001b[0;34m(\u001b[0m\u001b[0;34m'Lucas'\u001b[0m\u001b[0;34m,\u001b[0m \u001b[0;34m'Varela'\u001b[0m\u001b[0;34m,\u001b[0m \u001b[0;36m20000\u001b[0m\u001b[0;34m)\u001b[0m\u001b[0;34m\u001b[0m\u001b[0;34m\u001b[0m\u001b[0m\n\u001b[1;32m      2\u001b[0m \u001b[0;34m\u001b[0m\u001b[0m\n\u001b[0;32m----> 3\u001b[0;31m \u001b[0memp_01\u001b[0m\u001b[0;34m.\u001b[0m\u001b[0mfullname\u001b[0m\u001b[0;34m=\u001b[0m\u001b[0;34m'Marvin Sanches'\u001b[0m\u001b[0;34m\u001b[0m\u001b[0;34m\u001b[0m\u001b[0m\n\u001b[0m\u001b[1;32m      4\u001b[0m \u001b[0memp_01\u001b[0m\u001b[0;34m.\u001b[0m\u001b[0memail\u001b[0m\u001b[0;34m=\u001b[0m\u001b[0;34m'some@nonsense.com'\u001b[0m\u001b[0;34m\u001b[0m\u001b[0;34m\u001b[0m\u001b[0m\n\u001b[1;32m      5\u001b[0m \u001b[0;34m\u001b[0m\u001b[0m\n",
      "\u001b[0;31mAttributeError\u001b[0m: can't set attribute"
     ]
    }
   ],
   "source": [
    "emp_01 = Employee('Lucas', 'Varela', 20000)\n",
    "\n",
    "# This won't work\n",
    "emp_01.fullname='Marvin Sanches'\n",
    "\n",
    "print(emp_01.first)\n",
    "print(emp_01.email)\n",
    "print(emp_01.fullname)"
   ]
  },
  {
   "cell_type": "code",
   "execution_count": 21,
   "metadata": {},
   "outputs": [],
   "source": [
    "class Employee:\n",
    "    raise_amount = 1.04\n",
    "\n",
    "    def __init__(self, first, last, pay):\n",
    "        self.first = first\n",
    "        self.last = last\n",
    "        self.pay = pay\n",
    "\n",
    "    # Makes fullname accessable as an attribute, \n",
    "    # but it is declared as a method\n",
    "    @property\n",
    "    def fullname(self):\n",
    "        return '{0} {1}'.format(self.first, self.last)\n",
    "\n",
    "    def apply_raise(self):\n",
    "        self.pay = int(self.pay * self.raise_amount)\n",
    "\n",
    "    @classmethod\n",
    "    def set_raise_amount(cls, amount):\n",
    "        cls.raise_amount = amount\n",
    "\n",
    "    @classmethod\n",
    "    def from_string(cls, emp_str):\n",
    "        first, last, pay = emp_str.split('-')\n",
    "        return cls(first, last, pay)\n",
    "\n",
    "    @staticmethod\n",
    "    def is_workday(day):\n",
    "        if day.weekday() == 5 or day.weekday() == 6:\n",
    "            return False\n",
    "        return True\n",
    "\n",
    "    def __repr__(self):\n",
    "        return \"Employee('{}','{}','{}')\".format(self.first, self.last, self.pay)\n",
    "\n",
    "    def __str__(self):\n",
    "        return '{} - {}'.format(self.fullname(), self.email)\n",
    "\n",
    "    def __add__(self, other):\n",
    "        return self.pay + other.pay\n",
    "\n",
    "    # Makes email accessable as an attribute, \n",
    "    # but it is declared as a method\n",
    "    @property\n",
    "    def email(self):\n",
    "        return '{0}.{1}@company.com'.format(self.first, self.last).lower()\n",
    "\n",
    "    @fullname.setter\n",
    "    def fullname(self, name):\n",
    "        first, last = name.split(' ')\n",
    "        self.first = first\n",
    "        self.last = last"
   ]
  },
  {
   "cell_type": "code",
   "execution_count": 22,
   "metadata": {},
   "outputs": [
    {
     "output_type": "stream",
     "name": "stdout",
     "text": [
      "Marvin\nmarvin.sanches@company.com\nMarvin Sanches\n"
     ]
    }
   ],
   "source": [
    "emp_01 = Employee('Lucas', 'Varela', 20000)\n",
    "\n",
    "# This won't work\n",
    "emp_01.fullname='Marvin Sanches'\n",
    "\n",
    "print(emp_01.first)\n",
    "print(emp_01.email)\n",
    "print(emp_01.fullname)"
   ]
  },
  {
   "source": [
    "## `@deleter`"
   ],
   "cell_type": "markdown",
   "metadata": {}
  },
  {
   "cell_type": "code",
   "execution_count": 26,
   "metadata": {},
   "outputs": [],
   "source": [
    "class Employee:\n",
    "    raise_amount = 1.04\n",
    "\n",
    "    def __init__(self, first, last, pay):\n",
    "        self.first = first\n",
    "        self.last = last\n",
    "        self.pay = pay\n",
    "\n",
    "    # Makes fullname accessable as an attribute, \n",
    "    # but it is declared as a method\n",
    "    @property\n",
    "    def fullname(self):\n",
    "        return '{0} {1}'.format(self.first, self.last)\n",
    "\n",
    "    def apply_raise(self):\n",
    "        self.pay = int(self.pay * self.raise_amount)\n",
    "\n",
    "    @classmethod\n",
    "    def set_raise_amount(cls, amount):\n",
    "        cls.raise_amount = amount\n",
    "\n",
    "    @classmethod\n",
    "    def from_string(cls, emp_str):\n",
    "        first, last, pay = emp_str.split('-')\n",
    "        return cls(first, last, pay)\n",
    "\n",
    "    @staticmethod\n",
    "    def is_workday(day):\n",
    "        if day.weekday() == 5 or day.weekday() == 6:\n",
    "            return False\n",
    "        return True\n",
    "\n",
    "    def __repr__(self):\n",
    "        return \"Employee('{}','{}','{}')\".format(self.first, self.last, self.pay)\n",
    "\n",
    "    def __str__(self):\n",
    "        return '{} - {}'.format(self.fullname(), self.email)\n",
    "\n",
    "    def __add__(self, other):\n",
    "        return self.pay + other.pay\n",
    "\n",
    "    # Makes email accessable as an attribute, \n",
    "    # but it is declared as a method\n",
    "    @property\n",
    "    def email(self):\n",
    "        return '{0}.{1}@company.com'.format(self.first, self.last).lower()\n",
    "\n",
    "    @fullname.setter\n",
    "    def fullname(self, name):\n",
    "        first, last = name.split(' ')\n",
    "        self.first = first\n",
    "        self.last = last\n",
    "\n",
    "    @fullname.deleter\n",
    "    def fullname(self):\n",
    "        print('Delete name!')\n",
    "        self.first = None\n",
    "        self.last = None"
   ]
  },
  {
   "cell_type": "code",
   "execution_count": 27,
   "metadata": {},
   "outputs": [
    {
     "output_type": "stream",
     "name": "stdout",
     "text": [
      "Marvin\nmarvin.sanches@company.com\nMarvin Sanches\nDelete name!\n"
     ]
    }
   ],
   "source": [
    "emp_01 = Employee('Lucas', 'Varela', 20000)\n",
    "\n",
    "# This won't work\n",
    "emp_01.fullname='Marvin Sanches'\n",
    "\n",
    "print(emp_01.first)\n",
    "print(emp_01.email)\n",
    "print(emp_01.fullname)\n",
    "\n",
    "del emp_01.fullname"
   ]
  },
  {
   "cell_type": "code",
   "execution_count": null,
   "metadata": {},
   "outputs": [],
   "source": []
  }
 ]
}