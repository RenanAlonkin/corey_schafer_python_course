{
 "metadata": {
  "language_info": {
   "codemirror_mode": {
    "name": "ipython",
    "version": 3
   },
   "file_extension": ".py",
   "mimetype": "text/x-python",
   "name": "python",
   "nbconvert_exporter": "python",
   "pygments_lexer": "ipython3",
   "version": "3.7.7-final"
  },
  "orig_nbformat": 2,
  "kernelspec": {
   "name": "Python 3.7.7 64-bit",
   "display_name": "Python 3.7.7 64-bit",
   "metadata": {
    "interpreter": {
     "hash": "375de3278ecb5752d8f955835ca8124e512a0c84642b6df372aed965b23ae2e5"
    }
   }
  }
 },
 "nbformat": 4,
 "nbformat_minor": 2,
 "cells": [
  {
   "cell_type": "code",
   "execution_count": 23,
   "metadata": {},
   "outputs": [],
   "source": [
    "class Employee:\n",
    "    raise_amount = 1.04\n",
    "\n",
    "    def __init__(self, first, last, pay):\n",
    "        self.first = first\n",
    "        self.last = last\n",
    "        self.pay = pay\n",
    "        self.email = '{0}.{1}@company.com'.format(first, last).lower()\n",
    "\n",
    "    def fullname(self):\n",
    "        return '{0} {1}'.format(self.first, self.last)\n",
    "\n",
    "    def apply_raise(self):\n",
    "        self.pay = int(self.pay * self.raise_amount)\n",
    "\n",
    "    # Works as one for the whole class\n",
    "    # For example, it will change values for all instances\n",
    "    @classmethod\n",
    "    def set_raise_amount(cls, amount):\n",
    "        cls.raise_amount = amount\n",
    "\n",
    "    # Alternative constructor\n",
    "    @classmethod\n",
    "    def from_string(cls, emp_str):\n",
    "        first, last, pay = emp_str.split('-')\n",
    "        # Since we are using a classmethod, we can usse cls as \n",
    "        # the reference to our class\n",
    "        return cls(first, last, pay)\n",
    "\n",
    "    # Makes sense to be here with employee but doesn't use any of \n",
    "    # the employee's variables or instances as argument or value\n",
    "    @staticmethod\n",
    "    def is_workday(day):\n",
    "        if day.weekday() == 5 or day.weekday() == 6:\n",
    "            return False\n",
    "        return True"
   ]
  },
  {
   "cell_type": "code",
   "execution_count": 24,
   "metadata": {},
   "outputs": [],
   "source": [
    "class Developer(Employee): \n",
    "    pass"
   ]
  },
  {
   "source": [
    "# Method Resolution order\n",
    "Is the order where python will search for attributes and methods"
   ],
   "cell_type": "markdown",
   "metadata": {}
  },
  {
   "cell_type": "code",
   "execution_count": 25,
   "metadata": {
    "tags": []
   },
   "outputs": [
    {
     "output_type": "stream",
     "name": "stdout",
     "text": "Help on class Developer in module __main__:\n\nclass Developer(Employee)\n |  Developer(first, last, pay)\n |  \n |  Method resolution order:\n |      Developer\n |      Employee\n |      builtins.object\n |  \n |  Methods inherited from Employee:\n |  \n |  __init__(self, first, last, pay)\n |      Initialize self.  See help(type(self)) for accurate signature.\n |  \n |  apply_raise(self)\n |  \n |  fullname(self)\n |  \n |  ----------------------------------------------------------------------\n |  Class methods inherited from Employee:\n |  \n |  from_string(emp_str) from builtins.type\n |      # Alternative constructor\n |  \n |  set_raise_amount(amount) from builtins.type\n |      # Works as one for the whole class\n |      # For example, it will change values for all instances\n |  \n |  ----------------------------------------------------------------------\n |  Static methods inherited from Employee:\n |  \n |  is_workday(day)\n |      # Makes sense to be here with employee but doesn&#39;t use any of \n |      # the employee&#39;s variables or instances as argument or value\n |  \n |  ----------------------------------------------------------------------\n |  Data descriptors inherited from Employee:\n |  \n |  __dict__\n |      dictionary for instance variables (if defined)\n |  \n |  __weakref__\n |      list of weak references to the object (if defined)\n |  \n |  ----------------------------------------------------------------------\n |  Data and other attributes inherited from Employee:\n |  \n |  raise_amount = 1.04\n\nNone\n"
    }
   ],
   "source": [
    "print(help(Developer))"
   ]
  },
  {
   "cell_type": "code",
   "execution_count": 26,
   "metadata": {},
   "outputs": [],
   "source": [
    "class Developer(Employee): \n",
    "    raise_amount = 1.10\n",
    "\n",
    "    def __init__(self, first, last, pay, prog_lang):\n",
    "        super().__init__(first, last, pay)\n",
    "        self.prog_lang = prog_lang"
   ]
  },
  {
   "cell_type": "code",
   "execution_count": 27,
   "metadata": {
    "tags": []
   },
   "outputs": [
    {
     "output_type": "stream",
     "name": "stdout",
     "text": "60000\n66000\n"
    }
   ],
   "source": [
    "dev_01 = Developer('Jeferson', 'Sweetheart', 60000, 'Typescript')\n",
    "print(dev_01.pay)\n",
    "dev_01.apply_raise()\n",
    "print(dev_01.pay)"
   ]
  },
  {
   "cell_type": "code",
   "execution_count": 30,
   "metadata": {},
   "outputs": [],
   "source": [
    "class Manager(Employee): \n",
    "    def __init__(self, first, last, pay, employees=None):\n",
    "        super().__init__(first, last, pay)\n",
    "        if employees is None:\n",
    "            self.employees = []\n",
    "        else: \n",
    "            self.employees = employees\n",
    "\n",
    "    def add_emp(self, emp):\n",
    "        if emp not in self.employees:\n",
    "            self.employees.append(emp)\n",
    "    \n",
    "    def remove_emp(self, emp):\n",
    "        if emp  in self.employees:\n",
    "            self.employees.remove(emp)\n",
    "\n",
    "    def print_emps(self):\n",
    "        for emp in self.employees:\n",
    "            print('--->', emp.fullname())"
   ]
  },
  {
   "cell_type": "code",
   "execution_count": 32,
   "metadata": {
    "tags": []
   },
   "outputs": [
    {
     "output_type": "stream",
     "name": "stdout",
     "text": "sue.smith@company.com\n---&gt; Jeferson Sweetheart\n"
    }
   ],
   "source": [
    "mgr_01 = Manager('Sue', 'Smith', 70000, [dev_01])\n",
    "print(mgr_01.email)\n",
    "\n",
    "mgr_01.print_emps()"
   ]
  },
  {
   "cell_type": "code",
   "execution_count": 35,
   "metadata": {
    "tags": []
   },
   "outputs": [
    {
     "output_type": "stream",
     "name": "stdout",
     "text": "True\nTrue\nFalse\n"
    }
   ],
   "source": [
    "print(isinstance(mgr_01, Manager))\n",
    "print(isinstance(mgr_01, Employee))\n",
    "print(isinstance(mgr_01, Developer))"
   ]
  },
  {
   "cell_type": "code",
   "execution_count": 38,
   "metadata": {
    "tags": []
   },
   "outputs": [
    {
     "output_type": "stream",
     "name": "stdout",
     "text": "True\nFalse\n"
    }
   ],
   "source": [
    "print(issubclass(Developer, Employee))\n",
    "print(issubclass(Developer, Manager))"
   ]
  }
 ]
}