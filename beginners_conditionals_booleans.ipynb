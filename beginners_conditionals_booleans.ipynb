{
 "cells": [
  {
   "cell_type": "code",
   "execution_count": 3,
   "metadata": {},
   "outputs": [
    {
     "output_type": "stream",
     "name": "stdout",
     "text": "Conditional was True\nConditional was True\nLanguage is Python\nAdmin Page\n"
    }
   ],
   "source": [
    "if True: \n",
    "    print('Conditional was True')\n",
    "\n",
    "\n",
    "if False:\n",
    "    print('Conditional was False')\n",
    "\n",
    "# Using Variables\n",
    "language = 'Python'\n",
    "if language == 'Python':\n",
    "    print('Conditional was True')\n",
    "\n",
    "\n",
    "# Comparisons:\n",
    "# Equal:                ==\n",
    "# Not Equal:            !=\n",
    "# Greater Than:         >\n",
    "# Less Than:            <\n",
    "# Greater or Equal:     >=\n",
    "# Less or Equal:        <=\n",
    "# Object Identity:      is <- same object in the memory\n",
    "\n",
    "if language == 'Python':\n",
    "    print(\"Language is Python\")\n",
    "elif language == 'Java': \n",
    "    print(\"Language is Java\")\n",
    "else: \n",
    "    print('No Match')\n",
    "\n",
    "# Conditionals\n",
    "# and, or, not\n",
    "\n",
    "user = 'Admin'\n",
    "logged_in = True\n",
    "\n",
    "if user == 'Admin' and logged_in:\n",
    "    print('Admin Page')\n",
    "else: \n",
    "    print('Bad Creds')"
   ]
  },
  {
   "cell_type": "markdown",
   "metadata": {},
   "source": [
    "# Verifying objects vs Verifying values"
   ]
  },
  {
   "cell_type": "code",
   "execution_count": 4,
   "metadata": {},
   "outputs": [
    {
     "output_type": "stream",
     "name": "stdout",
     "text": "True\nFalse\n139898314812784 139898314813184\n"
    }
   ],
   "source": [
    "a = [1, 2, 3]\n",
    "b = [1, 2, 3]\n",
    "\n",
    "print(a == b)\n",
    "print(a is b)\n",
    "print(id(a), id(b))"
   ]
  },
  {
   "cell_type": "code",
   "execution_count": 10,
   "metadata": {},
   "outputs": [
    {
     "output_type": "stream",
     "name": "stdout",
     "text": "Evaluated as False\n"
    }
   ],
   "source": [
    "# condition = False       # boolean\n",
    "# condition = None        # None\n",
    "# condition = 0           # Zero of any numeric type\n",
    "# condition = 10           # Zero of any numeric type\n",
    "# condition = ''          # Any empty sequence, for example: '', (), []\n",
    "# condition = {}          # Any empty mapping, for example, {}\n",
    "\n",
    "\n",
    "if condition:\n",
    "    print('Evaluated as True')\n",
    "else:\n",
    "    print('Evaluated as False')"
   ]
  },
  {
   "cell_type": "code",
   "execution_count": null,
   "metadata": {},
   "outputs": [],
   "source": []
  }
 ],
 "metadata": {
  "language_info": {
   "codemirror_mode": {
    "name": "ipython",
    "version": 3
   },
   "file_extension": ".py",
   "mimetype": "text/x-python",
   "name": "python",
   "nbconvert_exporter": "python",
   "pygments_lexer": "ipython3",
   "version": "3.7.6-final"
  },
  "orig_nbformat": 2,
  "kernelspec": {
   "name": "python3",
   "display_name": "Python 3"
  }
 },
 "nbformat": 4,
 "nbformat_minor": 2
}