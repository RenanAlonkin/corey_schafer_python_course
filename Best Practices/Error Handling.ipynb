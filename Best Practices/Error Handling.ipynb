{
 "metadata": {
  "language_info": {
   "codemirror_mode": {
    "name": "ipython",
    "version": 3
   },
   "file_extension": ".py",
   "mimetype": "text/x-python",
   "name": "python",
   "nbconvert_exporter": "python",
   "pygments_lexer": "ipython3",
   "version": "3.7.6-final"
  },
  "orig_nbformat": 2,
  "kernelspec": {
   "name": "Python 3.7.6 64-bit ('base': conda)",
   "display_name": "Python 3.7.6 64-bit ('base': conda)",
   "metadata": {
    "interpreter": {
     "hash": "3557435acd75fc5faa5951f595f998356aaec2c348ba8ce54025a59aa5752b02"
    }
   }
  }
 },
 "nbformat": 4,
 "nbformat_minor": 2,
 "cells": [
  {
   "source": [
    "## Error full structure:"
   ],
   "cell_type": "markdown",
   "metadata": {}
  },
  {
   "cell_type": "code",
   "execution_count": null,
   "metadata": {},
   "outputs": [],
   "source": [
    "try:\n",
    "    pass\n",
    "except Exception:\n",
    "    pass\n",
    "else:\n",
    "    pass\n",
    "finally:\n",
    "    pass"
   ]
  },
  {
   "source": [
    "## `try` and `except`"
   ],
   "cell_type": "markdown",
   "metadata": {}
  },
  {
   "cell_type": "code",
   "execution_count": 3,
   "metadata": {},
   "outputs": [
    {
     "output_type": "error",
     "ename": "FileNotFoundError",
     "evalue": "[Errno 2] No such file or directory: 'testfile.txt'",
     "traceback": [
      "\u001b[0;31m---------------------------------------------------------------------------\u001b[0m",
      "\u001b[0;31mFileNotFoundError\u001b[0m                         Traceback (most recent call last)",
      "\u001b[0;32m<ipython-input-3-164a0a4b2d04>\u001b[0m in \u001b[0;36m<module>\u001b[0;34m\u001b[0m\n\u001b[1;32m      1\u001b[0m \u001b[0;31m# this is going to throw an error since that file doesn't exists\u001b[0m\u001b[0;34m\u001b[0m\u001b[0;34m\u001b[0m\u001b[0;34m\u001b[0m\u001b[0m\n\u001b[0;32m----> 2\u001b[0;31m \u001b[0mf\u001b[0m \u001b[0;34m=\u001b[0m \u001b[0mopen\u001b[0m\u001b[0;34m(\u001b[0m\u001b[0;34m'testfile.txt'\u001b[0m\u001b[0;34m)\u001b[0m\u001b[0;34m\u001b[0m\u001b[0;34m\u001b[0m\u001b[0m\n\u001b[0m",
      "\u001b[0;31mFileNotFoundError\u001b[0m: [Errno 2] No such file or directory: 'testfile.txt'"
     ]
    }
   ],
   "source": [
    "# this is going to throw an error since that file doesn't exists\n",
    "f = open('testfile.txt')"
   ]
  },
  {
   "cell_type": "code",
   "execution_count": 4,
   "metadata": {},
   "outputs": [
    {
     "output_type": "stream",
     "name": "stdout",
     "text": [
      "Sorry, this file does not exist\n"
     ]
    }
   ],
   "source": [
    "try:\n",
    "    f = open('testfile.txt')\n",
    "except Exception: # Pretty vage. Will run for other errors too\n",
    "    # is going to show our error instead of the verbose python error\n",
    "    print('Sorry, this file does not exist')"
   ]
  },
  {
   "cell_type": "code",
   "execution_count": 5,
   "metadata": {},
   "outputs": [
    {
     "output_type": "stream",
     "name": "stdout",
     "text": [
      "Sorry, something went wrong\n"
     ]
    }
   ],
   "source": [
    "try:\n",
    "    f = open('Error Handling.ipynb')\n",
    "    var = bad_var\n",
    "# More specific exceptions always go first    \n",
    "except FileNotFoundError: # Will only catch this error\n",
    "    print('Sorry, this file does not exist')\n",
    "except Exception:\n",
    "    print('Sorry, something went wrong')"
   ]
  },
  {
   "cell_type": "code",
   "execution_count": 6,
   "metadata": {},
   "outputs": [
    {
     "output_type": "stream",
     "name": "stdout",
     "text": [
      "[Errno 2] No such file or directory: 'ErrorHandling.ipynb'\n"
     ]
    }
   ],
   "source": [
    "try:\n",
    "    f = open('ErrorHandling.ipynb')\n",
    "# We can save our exception as a variable\n",
    "except FileNotFoundError as e:\n",
    "    print(e)\n",
    "except Exception as e:\n",
    "    print(e)"
   ]
  },
  {
   "source": [
    "## `else`"
   ],
   "cell_type": "markdown",
   "metadata": {}
  },
  {
   "cell_type": "code",
   "execution_count": 9,
   "metadata": {},
   "outputs": [
    {
     "output_type": "stream",
     "name": "stdout",
     "text": [
      "Error Handling.ipynb\n"
     ]
    }
   ],
   "source": [
    "try:\n",
    "    f = open('Error Handling.ipynb')\n",
    "    # We could add the else content here, but it is not a good practice\n",
    "    # Since we have a generic exception that can catch possible\n",
    "    # New exceptions by accident.\n",
    "except FileNotFoundError as e:\n",
    "    print(e)\n",
    "except Exception as e:\n",
    "    print(e)\n",
    "# Runs code that needs to be run if the try clause doesn't raise an exception \n",
    "else:\n",
    "    print(f.name)\n",
    "    f.close()"
   ]
  },
  {
   "source": [
    "## `finally`"
   ],
   "cell_type": "markdown",
   "metadata": {}
  },
  {
   "cell_type": "code",
   "execution_count": 10,
   "metadata": {},
   "outputs": [
    {
     "output_type": "stream",
     "name": "stdout",
     "text": [
      "Error Handling.ipynb\nExecuting Finally...\n"
     ]
    }
   ],
   "source": [
    "try:\n",
    "    f = open('Error Handling.ipynb')\n",
    "\n",
    "except FileNotFoundError as e:\n",
    "    print(e)\n",
    "except Exception as e:\n",
    "    print(e)\n",
    "else:\n",
    "    print(f.name)\n",
    "    f.close()\n",
    "# Runs no matter even if it raise an exception or not\n",
    "finally:\n",
    "    print('Executing Finally...')"
   ]
  },
  {
   "cell_type": "code",
   "execution_count": 11,
   "metadata": {},
   "outputs": [
    {
     "output_type": "stream",
     "name": "stdout",
     "text": [
      "[Errno 2] No such file or directory: 'Error_Handling.ipynb'\nExecuting Finally...\n"
     ]
    }
   ],
   "source": [
    "try:\n",
    "    f = open('Error_Handling.ipynb')\n",
    "\n",
    "except FileNotFoundError as e:\n",
    "    print(e)\n",
    "except Exception as e:\n",
    "    print(e)\n",
    "else:\n",
    "    print(f.name)\n",
    "    f.close()\n",
    "# Runs no matter even if it raise an exception or not\n",
    "finally:\n",
    "    print('Executing Finally...')"
   ]
  },
  {
   "source": [
    "## Raising your own exceptions"
   ],
   "cell_type": "markdown",
   "metadata": {}
  },
  {
   "cell_type": "code",
   "execution_count": 13,
   "metadata": {},
   "outputs": [
    {
     "output_type": "stream",
     "name": "stdout",
     "text": [
      "Error! Corrupt file\nExecuting Finally...\n"
     ]
    }
   ],
   "source": [
    "try:\n",
    "    file_name = 'corrupt_file.txt'\n",
    "    if file_name == 'corrupt_file.txt':\n",
    "        raise Exception\n",
    "except FileNotFoundError as e:\n",
    "    print(e)\n",
    "except Exception as e:\n",
    "    print('Error! Corrupt file')\n",
    "else:\n",
    "    print(f.name)\n",
    "    f.close()\n",
    "# Runs no matter even if it raise an exception or not\n",
    "finally:\n",
    "    print('Executing Finally...')"
   ]
  },
  {
   "cell_type": "code",
   "execution_count": null,
   "metadata": {},
   "outputs": [],
   "source": []
  }
 ]
}