{
 "metadata": {
  "language_info": {
   "codemirror_mode": {
    "name": "ipython",
    "version": 3
   },
   "file_extension": ".py",
   "mimetype": "text/x-python",
   "name": "python",
   "nbconvert_exporter": "python",
   "pygments_lexer": "ipython3",
   "version": "3.7.7-final"
  },
  "orig_nbformat": 2,
  "kernelspec": {
   "name": "python3",
   "display_name": "Python 3"
  }
 },
 "nbformat": 4,
 "nbformat_minor": 2,
 "cells": [
  {
   "cell_type": "code",
   "execution_count": 2,
   "metadata": {
    "tags": []
   },
   "outputs": [
    {
     "output_type": "stream",
     "name": "stdout",
     "text": "Importing beginner_my_module...\n"
    }
   ],
   "source": [
    "import beginners_my_module"
   ]
  },
  {
   "cell_type": "code",
   "execution_count": 1,
   "metadata": {},
   "outputs": [],
   "source": [
    "courses = ['History', 'Math', 'Physics', 'CompSci']"
   ]
  },
  {
   "cell_type": "code",
   "execution_count": 4,
   "metadata": {
    "tags": []
   },
   "outputs": [
    {
     "output_type": "stream",
     "name": "stdout",
     "text": "1\n"
    }
   ],
   "source": [
    "index = beginners_my_module.find_index(courses, 'Math')\n",
    "print(index)"
   ]
  },
  {
   "cell_type": "code",
   "execution_count": 7,
   "metadata": {
    "tags": []
   },
   "outputs": [
    {
     "output_type": "stream",
     "name": "stdout",
     "text": "1\n1\n"
    }
   ],
   "source": [
    "# Shortning the importation\n",
    "import beginners_my_module as mm\n",
    "\n",
    "index = mm.find_index(courses, 'Math')\n",
    "print(index)\n",
    "\n",
    "# Importing only the things you want to use\n",
    "from beginners_my_module import find_index\n",
    "\n",
    "index = find_index(courses, 'Math')\n",
    "print(index)"
   ]
  },
  {
   "cell_type": "code",
   "execution_count": 8,
   "metadata": {
    "tags": []
   },
   "outputs": [
    {
     "output_type": "stream",
     "name": "stdout",
     "text": "Testing string\n"
    }
   ],
   "source": [
    "# Importing a variable\n",
    "from beginners_my_module import test\n",
    "print(test)"
   ]
  },
  {
   "cell_type": "markdown",
   "metadata": {},
   "source": [
    "## The importing system from python looks to multiple paths\n",
    "\n",
    "You can check it out by importing sys and see where python will look out"
   ]
  },
  {
   "cell_type": "code",
   "execution_count": 13,
   "metadata": {
    "tags": []
   },
   "outputs": [
    {
     "output_type": "stream",
     "name": "stdout",
     "text": "['/home/alonkin/Documents/projects/python/corey_schafer_python_course', '/tmp/c6522ebf-20d6-4779-85ba-b1e6b7db67c7', '/home/alonkin/.vscode/extensions/ms-python.python-2020.8.106424/pythonFiles', '/home/alonkin/.vscode/extensions/ms-python.python-2020.8.106424/pythonFiles/lib/python', '/home/alonkin/anaconda3/envs/studying/lib/python37.zip', '/home/alonkin/anaconda3/envs/studying/lib/python3.7', '/home/alonkin/anaconda3/envs/studying/lib/python3.7/lib-dynload', '', '/home/alonkin/anaconda3/envs/studying/lib/python3.7/site-packages', '/home/alonkin/anaconda3/envs/studying/lib/python3.7/site-packages/IPython/extensions', '/home/alonkin/.ipython']\n"
    }
   ],
   "source": [
    "import sys\n",
    "\n",
    "# Shows all paths where python are located\n",
    "print(sys.path)\n",
    "\n",
    "# Adding new directories to the path\n",
    "sys.path.append(\"PATH_TO_YOUR_FILE\")"
   ]
  },
  {
   "cell_type": "code",
   "execution_count": 18,
   "metadata": {
    "tags": []
   },
   "outputs": [
    {
     "output_type": "stream",
     "name": "stdout",
     "text": "Math\n1.5707963267948966\n2020-09-10\nTrue\n/home/alonkin/Documents/projects/python/corey_schafer_python_course\n/home/alonkin/anaconda3/envs/studying/lib/python3.7/os.py\n"
    }
   ],
   "source": [
    "# Looking into standard libraries\n",
    "import random\n",
    " \n",
    "random_course = random.choice(courses)\n",
    "print(random_course)\n",
    "\n",
    "\n",
    "import math\n",
    "\n",
    "rads = math.radians(90)\n",
    "print(rads)\n",
    "\n",
    "import datetime\n",
    "import calendar\n",
    "\n",
    "today = datetime.date.today()\n",
    "print(today)\n",
    "\n",
    "print(calendar.isleap(2020))\n",
    "\n",
    "import os\n",
    "\n",
    "print(os.getcwd())\n",
    "print(os.__file__)"
   ]
  },
  {
   "cell_type": "code",
   "execution_count": 19,
   "metadata": {},
   "outputs": [],
   "source": [
    "# Opens a meme lol\n",
    "import antigravity"
   ]
  }
 ]
}